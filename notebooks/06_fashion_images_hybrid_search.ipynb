{
 "cells": [
  {
   "cell_type": "markdown",
   "id": "d774efb9-a537-4fda-9b25-9dc608e099d6",
   "metadata": {},
   "source": [
    "<div align=\"center\">\n",
    "<p align=\"center\" style=\"width: 100%;\">\n",
    "    <img src=\"https://raw.githubusercontent.com/vlm-run/.github/refs/heads/main/profile/assets/vlm-black.svg\" alt=\"VLM Run Logo\" width=\"80\" style=\"margin-bottom: -5px; color: #2e3138; vertical-align: middle; padding-right: 5px;\"><br>\n",
    "</p>\n",
    "<p align=\"center\"><a href=\"https://docs.vlm.run\"><b>Website</b></a> | <a href=\"https://docs.vlm.run/\"><b>API Docs</b></a> | <a href=\"https://docs.vlm.run/blog\"><b>Blog</b></a> | <a href=\"https://discord.gg/AMApC2UzVY\"><b>Discord</b></a>\n",
    "</p>\n",
    "<p align=\"center\">\n",
    "<a href=\"https://discord.gg/AMApC2UzVY\"><img alt=\"Discord\" src=\"https://img.shields.io/badge/discord-chat-purple?color=%235765F2&label=discord&logo=discord\"></a>\n",
    "<a href=\"https://twitter.com/vlmrun\"><img alt=\"Twitter Follow\" src=\"https://img.shields.io/twitter/follow/vlmrun.svg?style=social&logo=twitter\"></a>\n",
    "</p>\n",
    "</div>\n",
    "\n",
    "Welcome to **[VLM Run Cookbooks](https://github.com/vlm-run/vlmrun-cookbook)**, a comprehensive collection of examples and notebooks demonstrating the power of structured visual understanding using the [VLM Run Platform](https://app.vlm.run). "
   ]
  },
  {
   "cell_type": "markdown",
   "id": "679cc584-88ce-4600-8d69-9e0d81b48f91",
   "metadata": {},
   "source": [
    "## Case Study: Fashion Product Catalog with Hybrid Search\n",
    "This notebook demonstrates how to build search for a fashion product catalog system using:\n",
    "- VLM Run for structured image understanding\n",
    "- LanceDB for hybrid vector + text search\n",
    "- CLIP embeddings for visual similarity"
   ]
  },
  {
   "cell_type": "markdown",
   "id": "eedb878f-f879-49ce-9196-7e728bc915c5",
   "metadata": {},
   "source": [
    "### Environment Setup\n",
    "\n",
    "To get started, install the VLM Run Python SDK and sign-up for an API key on the [VLM Run App](https://app.vlm.run).\n",
    "- Store the VLM Run API key under the `VLMRUN_API_KEY` environment variable."
   ]
  },
  {
   "cell_type": "markdown",
   "id": "e53ddbd1-96f8-413d-a307-94aba7071624",
   "metadata": {},
   "source": [
    "### Prerequisites\n",
    "\n",
    "* Python 3.9+\n",
    "* VLM Run API key (get one at [app.vlm.run](https://app.vlm.run))\n",
    "* Basic understanding of vector databases and embeddings"
   ]
  },
  {
   "cell_type": "markdown",
   "id": "49424a42-b73f-422e-b6a0-a5b3d936af2e",
   "metadata": {},
   "source": [
    "## Setup\n",
    "\n",
    "First, let's install the required packages:"
   ]
  },
  {
   "cell_type": "code",
   "execution_count": 1,
   "id": "4f704412-f2cc-4a93-b42d-a61a897740d7",
   "metadata": {},
   "outputs": [],
   "source": [
    "! pip install lancedb --quiet\n",
    "! pip install open_clip_torch --quiet\n",
    "! pip install vlmrun --upgrade --quiet\n",
    "! pip install vlmrun-hub --upgrade --quiet\n",
    "! pip install datasets --quiet\n",
    "! pip install tantivy --quiet  # For full-text search"
   ]
  },
  {
   "cell_type": "markdown",
   "id": "09b73e15-69e9-4850-9a6c-04944d262f50",
   "metadata": {},
   "source": [
    "## Set up CLIP Embeddings"
   ]
  },
  {
   "cell_type": "code",
   "execution_count": 2,
   "id": "88d5330b-c804-4a7b-92aa-5aea32db60c5",
   "metadata": {},
   "outputs": [
    {
     "name": "stderr",
     "output_type": "stream",
     "text": [
      "/Users/kaushikbokka/apps/vlm-run/vlmrun-cookbook/venv/lib/python3.9/site-packages/tqdm/auto.py:21: TqdmWarning: IProgress not found. Please update jupyter and ipywidgets. See https://ipywidgets.readthedocs.io/en/stable/user_install.html\n",
      "  from .autonotebook import tqdm as notebook_tqdm\n"
     ]
    }
   ],
   "source": [
    "from lancedb.embeddings import EmbeddingFunctionRegistry\n",
    "\n",
    "registry = EmbeddingFunctionRegistry.get_instance()\n",
    "clip = registry.get(\"open-clip\").create()"
   ]
  },
  {
   "cell_type": "code",
   "execution_count": 3,
   "id": "e86adb1c-4f44-4c6e-9051-4a779f16411e",
   "metadata": {},
   "outputs": [
    {
     "data": {
      "text/plain": [
       "OpenClipEmbeddings(max_retries=7, name='ViT-B-32', pretrained='laion2b_s34b_b79k', device='cpu', batch_size=64, normalize=True)"
      ]
     },
     "execution_count": 3,
     "metadata": {},
     "output_type": "execute_result"
    }
   ],
   "source": [
    "clip"
   ]
  },
  {
   "cell_type": "markdown",
   "id": "c775f01c-7299-4b8a-b3cf-07983626c86d",
   "metadata": {},
   "source": [
    "## Define Data Schema"
   ]
  },
  {
   "cell_type": "code",
   "execution_count": 4,
   "id": "3d1c96a9-60ef-4088-8096-9f4bf83be7d5",
   "metadata": {},
   "outputs": [],
   "source": [
    "from PIL import Image\n",
    "from lancedb.pydantic import LanceModel, Vector\n",
    "\n",
    "class FashionImages(LanceModel):\n",
    "    vector: Vector(clip.ndims()) = clip.VectorField()\n",
    "    image_uri: str = clip.SourceField()\n",
    "    description: str\n",
    "    category: str\n",
    "    season: str\n",
    "    gender: str\n",
    "\n",
    "    @property\n",
    "    def image(self):\n",
    "        return Image.open(self.image_uri)"
   ]
  },
  {
   "cell_type": "markdown",
   "id": "499eb075-bfe8-44cb-a377-b0e21f7aae01",
   "metadata": {},
   "source": [
    "## Configure VLM Run"
   ]
  },
  {
   "cell_type": "code",
   "execution_count": 5,
   "id": "36f9bdd7-9325-465a-affc-13cdb984ec4e",
   "metadata": {},
   "outputs": [
    {
     "name": "stdin",
     "output_type": "stream",
     "text": [
      " ········\n"
     ]
    }
   ],
   "source": [
    "import os\n",
    "import getpass\n",
    "\n",
    "VLMRUN_BASE_URL = os.getenv(\"VLMRUN_BASE_URL\", \"https://dev.vlm.run/v1\")\n",
    "VLMRUN_API_KEY = os.getenv(\"VLMRUN_API_KEY\", None)\n",
    "if VLMRUN_API_KEY is None:\n",
    "    VLMRUN_API_KEY = getpass.getpass()"
   ]
  },
  {
   "cell_type": "code",
   "execution_count": 6,
   "id": "29b91dd4-7ea2-4411-9580-3ab8015506dd",
   "metadata": {},
   "outputs": [],
   "source": [
    "from vlmrun.client import VLMRun\n",
    "\n",
    "vlm_client = VLMRun(base_url=VLMRUN_BASE_URL, api_key=VLMRUN_API_KEY)"
   ]
  },
  {
   "cell_type": "code",
   "execution_count": 7,
   "id": "6ec9876b-a1dd-4378-ae50-cce31b0a4879",
   "metadata": {},
   "outputs": [],
   "source": [
    "import lancedb\n",
    "\n",
    "db = lancedb.connect(\"fashion_imagesdb\")"
   ]
  },
  {
   "cell_type": "markdown",
   "id": "0d2a518b-3442-4bc6-bd35-4342da88341c",
   "metadata": {},
   "source": [
    "## Load and Process Dataset"
   ]
  },
  {
   "cell_type": "code",
   "execution_count": 8,
   "id": "cd670638-3c87-4442-90a1-7bde5137417c",
   "metadata": {},
   "outputs": [
    {
     "name": "stdout",
     "output_type": "stream",
     "text": [
      "Loading 2% of fashion dataset...\n",
      "Loaded 881 images successfully\n"
     ]
    }
   ],
   "source": [
    "from datasets import load_dataset\n",
    "import logging\n",
    "\n",
    "def load_fashion_dataset(sample_size=\"1%\"):\n",
    "    try:\n",
    "        print(f\"Loading {sample_size} of fashion dataset...\")\n",
    "        ds = load_dataset(\"ashraq/fashion-product-images-small\", \n",
    "                         split=f\"train[:{sample_size}]\")\n",
    "        print(f\"Loaded {len(ds)} images successfully\")\n",
    "        return ds\n",
    "    except Exception as e:\n",
    "        logging.error(f\"Failed to load dataset: {str(e)}\")\n",
    "        raise\n",
    "\n",
    "ds = load_fashion_dataset(\"2%\")"
   ]
  },
  {
   "cell_type": "code",
   "execution_count": 9,
   "id": "1ce76543-4797-4a76-b992-3bedfcde0c6b",
   "metadata": {},
   "outputs": [],
   "source": [
    "def get_image_metadata(image):\n",
    "    response = vlm_client.image.generate(\n",
    "            images=[image],\n",
    "            domain=\"retail.product-catalog\"\n",
    "        )\n",
    "    return response.response"
   ]
  },
  {
   "cell_type": "code",
   "execution_count": 10,
   "id": "6b4830a4-47ec-4452-99e9-30e53c59d688",
   "metadata": {},
   "outputs": [],
   "source": [
    "import pandas as pd\n",
    "from pathlib import Path\n",
    "import os\n",
    "from concurrent.futures import ThreadPoolExecutor\n",
    "from tqdm.auto import tqdm\n",
    "import functools\n",
    "\n",
    "image_dir = Path(\"~/fashion_images\").expanduser()\n",
    "image_dir.mkdir(exist_ok=True)\n",
    "\n",
    "def process_batch(batch_data):\n",
    "    batch_records = []\n",
    "    for idx, img in batch_data:\n",
    "        try:\n",
    "            # Save image\n",
    "            image_path = str(image_dir / f\"image_{idx}.jpg\")\n",
    "            img.save(image_path)\n",
    "            \n",
    "            # Get metadata\n",
    "            metadata = get_image_metadata(img)\n",
    "            \n",
    "            batch_records.append({\n",
    "                \"image_uri\": image_path,\n",
    "                \"description\": metadata.description,\n",
    "                \"category\": metadata.category,\n",
    "                \"season\": metadata.season,\n",
    "                \"gender\": metadata.gender\n",
    "            })\n",
    "        except Exception as e:\n",
    "            print(f\"Error processing image {idx}: {e}\")\n",
    "    return batch_records"
   ]
  },
  {
   "cell_type": "code",
   "execution_count": 11,
   "id": "1aebdc7d-22e3-4f5c-85ba-971bd1266c14",
   "metadata": {},
   "outputs": [],
   "source": [
    "if \"fashion_images\" in db:\n",
    "    table = db[\"fashion_images\"]\n",
    "else:\n",
    "    # Create batches of images\n",
    "    BATCH_SIZE = 32  # Adjust based on your system's capabilities\n",
    "    MAX_WORKERS = 4  # Adjust based on your CPU cores\n",
    "    \n",
    "    # Prepare batches\n",
    "    all_images = list(enumerate(ds[\"image\"]))\n",
    "    batches = [all_images[i:i + BATCH_SIZE] \n",
    "              for i in range(0, len(all_images), BATCH_SIZE)]\n",
    "    \n",
    "    # Process batches in parallel\n",
    "    records = []\n",
    "    with ThreadPoolExecutor(max_workers=MAX_WORKERS) as executor:\n",
    "        # Map batches to workers and show progress\n",
    "        futures = list(tqdm(\n",
    "            executor.map(process_batch, batches),\n",
    "            total=len(batches),\n",
    "            desc=\"Processing images\"\n",
    "        ))\n",
    "        \n",
    "        # Combine results\n",
    "        for batch_records in futures:\n",
    "            records.extend(batch_records)\n",
    "    \n",
    "    # Create table and add all records at once\n",
    "    table = db.create_table(\"fashion_images\", schema=FashionImages)\n",
    "    df = pd.DataFrame(records)\n",
    "    table.add(df)"
   ]
  },
  {
   "cell_type": "code",
   "execution_count": 13,
   "id": "5e4f3abb-9057-4333-b266-ab31484a0f79",
   "metadata": {},
   "outputs": [],
   "source": [
    "# Create full-text search index on text fields\n",
    "table.create_fts_index([\"description\", \"category\", \"season\", \"gender\"], replace=True)"
   ]
  },
  {
   "cell_type": "markdown",
   "id": "401776d7-ace9-41f5-806d-42f751c495fc",
   "metadata": {},
   "source": [
    "## Implement Hybrid Search"
   ]
  },
  {
   "cell_type": "code",
   "execution_count": 14,
   "id": "7d9b6617-9bf2-4a20-836a-87f1cf2991b8",
   "metadata": {},
   "outputs": [],
   "source": [
    "def search_fashion(query: str, limit: int = 3):\n",
    "    \"\"\"\n",
    "    Hybrid search combining vector similarity with text search\n",
    "    \"\"\"\n",
    "    return (\n",
    "        table.search(query, query_type=\"hybrid\")\n",
    "        .limit(limit)\n",
    "        .to_pydantic(FashionImages)\n",
    "    )"
   ]
  },
  {
   "cell_type": "markdown",
   "id": "ce9ecc37-1f48-4a59-8380-f97c23bb9605",
   "metadata": {},
   "source": [
    "## Display Results"
   ]
  },
  {
   "cell_type": "code",
   "execution_count": 15,
   "id": "8275ddcb-0e8e-4671-a303-113c6b98657e",
   "metadata": {},
   "outputs": [],
   "source": [
    "from IPython.display import HTML, display\n",
    "import base64\n",
    "from io import BytesIO\n",
    "\n",
    "def create_result_card_html(image, description, category, season, gender):\n",
    "    \"\"\"\n",
    "    Create HTML for a single result card with image and metadata\n",
    "    \"\"\"\n",
    "    # Convert PIL image to base64\n",
    "    buffered = BytesIO()\n",
    "    image.save(buffered, format=\"JPEG\")\n",
    "    img_str = base64.b64encode(buffered.getvalue()).decode()\n",
    "    \n",
    "    return f\"\"\"\n",
    "        <div class=\"result-card\">\n",
    "            <img src=\"data:image/jpeg;base64,{img_str}\"/>\n",
    "            <div class=\"result-info\">\n",
    "                <p>{description}</p>\n",
    "                <div class=\"tags\">\n",
    "                    <span class=\"tag\">{category}</span>\n",
    "                    <span class=\"tag\">{season}</span>\n",
    "                    <span class=\"tag\">{gender}</span>\n",
    "                </div>\n",
    "            </div>\n",
    "        </div>\n",
    "    \"\"\"\n",
    "\n",
    "def display_fashion_results(results, max_height=400):\n",
    "    \"\"\"\n",
    "    Display fashion search results in a grid with styling\n",
    "    Args:\n",
    "        results: List of FashionImages objects\n",
    "        max_height: Maximum height for result images\n",
    "    \"\"\"\n",
    "    # CSS styling\n",
    "    style = \"\"\"\n",
    "    <style>\n",
    "        .results-container {\n",
    "            display: flex;\n",
    "            flex-wrap: wrap;\n",
    "            gap: 20px;\n",
    "            padding: 20px;\n",
    "        }\n",
    "        .result-card {\n",
    "            border: 1px solid #ddd;\n",
    "            border-radius: 8px;\n",
    "            overflow: hidden;\n",
    "            width: 300px;\n",
    "            box-shadow: 0 2px 4px rgba(0,0,0,0.1);\n",
    "            transition: transform 0.2s;\n",
    "        }\n",
    "        .result-card:hover {\n",
    "            transform: translateY(-5px);\n",
    "            box-shadow: 0 4px 8px rgba(0,0,0,0.2);\n",
    "        }\n",
    "        .result-card img {\n",
    "            width: 100%;\n",
    "            height: auto;\n",
    "            max-height: \"\"\" + str(max_height) + \"\"\"px;\n",
    "            object-fit: cover;\n",
    "        }\n",
    "        .result-info {\n",
    "            padding: 15px;\n",
    "        }\n",
    "        .result-info p {\n",
    "            margin: 0 0 10px 0;\n",
    "            color: #333;\n",
    "            font-size: 14px;\n",
    "            line-height: 1.4;\n",
    "        }\n",
    "        .tags {\n",
    "            display: flex;\n",
    "            flex-wrap: wrap;\n",
    "            gap: 8px;\n",
    "        }\n",
    "        .tag {\n",
    "            background: #f0f0f0;\n",
    "            padding: 4px 8px;\n",
    "            border-radius: 4px;\n",
    "            font-size: 12px;\n",
    "            color: #666;\n",
    "        }\n",
    "    </style>\n",
    "    \"\"\"\n",
    "    \n",
    "    # Generate HTML for all results\n",
    "    cards_html = \"\".join([\n",
    "        create_result_card_html(\n",
    "            r.image, \n",
    "            r.description, \n",
    "            r.category, \n",
    "            r.season, \n",
    "            r.gender\n",
    "        ) for r in results\n",
    "    ])\n",
    "    \n",
    "    # Combine style and content\n",
    "    html = f\"\"\"\n",
    "    {style}\n",
    "    <div class=\"results-container\">\n",
    "    {cards_html}\n",
    "    </div>\n",
    "    \"\"\"\n",
    "    \n",
    "    display(HTML(html))"
   ]
  },
  {
   "cell_type": "code",
   "execution_count": 19,
   "id": "ca1e6e1c-adf1-4891-a474-2582a1faa152",
   "metadata": {},
   "outputs": [
    {
     "data": {
      "text/html": [
       "\n",
       "    \n",
       "    <style>\n",
       "        .results-container {\n",
       "            display: flex;\n",
       "            flex-wrap: wrap;\n",
       "            gap: 20px;\n",
       "            padding: 20px;\n",
       "        }\n",
       "        .result-card {\n",
       "            border: 1px solid #ddd;\n",
       "            border-radius: 8px;\n",
       "            overflow: hidden;\n",
       "            width: 300px;\n",
       "            box-shadow: 0 2px 4px rgba(0,0,0,0.1);\n",
       "            transition: transform 0.2s;\n",
       "        }\n",
       "        .result-card:hover {\n",
       "            transform: translateY(-5px);\n",
       "            box-shadow: 0 4px 8px rgba(0,0,0,0.2);\n",
       "        }\n",
       "        .result-card img {\n",
       "            width: 100%;\n",
       "            height: auto;\n",
       "            max-height: 400px;\n",
       "            object-fit: cover;\n",
       "        }\n",
       "        .result-info {\n",
       "            padding: 15px;\n",
       "        }\n",
       "        .result-info p {\n",
       "            margin: 0 0 10px 0;\n",
       "            color: #333;\n",
       "            font-size: 14px;\n",
       "            line-height: 1.4;\n",
       "        }\n",
       "        .tags {\n",
       "            display: flex;\n",
       "            flex-wrap: wrap;\n",
       "            gap: 8px;\n",
       "        }\n",
       "        .tag {\n",
       "            background: #f0f0f0;\n",
       "            padding: 4px 8px;\n",
       "            border-radius: 4px;\n",
       "            font-size: 12px;\n",
       "            color: #666;\n",
       "        }\n",
       "    </style>\n",
       "    \n",
       "    <div class=\"results-container\">\n",
       "    \n",
       "        <div class=\"result-card\">\n",
       "            <img src=\"data:image/jpeg;base64,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\"/>\n",
       "            <div class=\"result-info\">\n",
       "                <p>A man is wearing a red satin dress shirt with a matching tie and black pants.</p>\n",
       "                <div class=\"tags\">\n",
       "                    <span class=\"tag\">apparel</span>\n",
       "                    <span class=\"tag\">fall</span>\n",
       "                    <span class=\"tag\">men</span>\n",
       "                </div>\n",
       "            </div>\n",
       "        </div>\n",
       "    \n",
       "        <div class=\"result-card\">\n",
       "            <img src=\"data:image/jpeg;base64,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\"/>\n",
       "            <div class=\"result-info\">\n",
       "                <p>A sleeveless red t-shirt designed for men, suitable for casual wear.</p>\n",
       "                <div class=\"tags\">\n",
       "                    <span class=\"tag\">apparel</span>\n",
       "                    <span class=\"tag\">summer</span>\n",
       "                    <span class=\"tag\">men</span>\n",
       "                </div>\n",
       "            </div>\n",
       "        </div>\n",
       "    \n",
       "        <div class=\"result-card\">\n",
       "            <img src=\"data:image/jpeg;base64,/9j/4AAQSkZJRgABAQAAAQABAAD/2wBDAAgGBgcGBQgHBwcJCQgKDBQNDAsLDBkSEw8UHRofHh0aHBwgJC4nICIsIxwcKDcpLDAxNDQ0Hyc5PTgyPC4zNDL/2wBDAQkJCQwLDBgNDRgyIRwhMjIyMjIyMjIyMjIyMjIyMjIyMjIyMjIyMjIyMjIyMjIyMjIyMjIyMjIyMjIyMjIyMjL/wAARCABQADwDASIAAhEBAxEB/8QAHwAAAQUBAQEBAQEAAAAAAAAAAAECAwQFBgcICQoL/8QAtRAAAgEDAwIEAwUFBAQAAAF9AQIDAAQRBRIhMUEGE1FhByJxFDKBkaEII0KxwRVS0fAkM2JyggkKFhcYGRolJicoKSo0NTY3ODk6Q0RFRkdISUpTVFVWV1hZWmNkZWZnaGlqc3R1dnd4eXqDhIWGh4iJipKTlJWWl5iZmqKjpKWmp6ipqrKztLW2t7i5usLDxMXGx8jJytLT1NXW19jZ2uHi4+Tl5ufo6erx8vP09fb3+Pn6/8QAHwEAAwEBAQEBAQEBAQAAAAAAAAECAwQFBgcICQoL/8QAtREAAgECBAQDBAcFBAQAAQJ3AAECAxEEBSExBhJBUQdhcRMiMoEIFEKRobHBCSMzUvAVYnLRChYkNOEl8RcYGRomJygpKjU2Nzg5OkNERUZHSElKU1RVVldYWVpjZGVmZ2hpanN0dXZ3eHl6goOEhYaHiImKkpOUlZaXmJmaoqOkpaanqKmqsrO0tba3uLm6wsPExcbHyMnK0tPU1dbX2Nna4uPk5ebn6Onq8vP09fb3+Pn6/9oADAMBAAIRAxEAPwD3+iiigDmfF/i228J6dDcSxPcSzSeXFDGcFjjJOfQD+YrzS3+MWtxX7G80+2MAlw8O1kkRc9Ac9fcivQPGeiy6ldaPeweWZLKWQgSAlcsvBOPdR+dZmtaEde0uZXjtAzQfeEeXEgGRhuuM1zTquM+U6KdJShzHbabfwapptvfWxLQToHQkYOD6+9XaxvC+ltonhux05pN7QR4LEYySSen41tV0LVHO1ZhRRRTASigV5f8AE7xde6Xcw6Rp1w0DvF5k8qHDgE4UA9uhJI56Um7K5cIOcuVHS+KvFOk6NZSW9zcobt1/d26nL57EgdB35xVAaotnpBuZEVERd20ybi/oB7H+teKTQtPO21mznmTqSe5ye/vVpTdS2a2091NLGjBY97nKLjgZ7+2elctROck0enTw6hHlvc9+0nxXo+tAJa3iCfoYZDtcH0wev4Zrcr5nWB0RPmdgH3Ek5P516n8M9dub4XWnXc7ytCqyxGRtzBTwVyecA4/Ot4zvozlr4XkXMnoej0UUVocY2vnH4iXb33jLV5EORG3lJ/wBQP5g19FyOFjZj0AJP4V8v6jMbiW8uXbLTM8hP+8Sf61EzrwkbtsfYTfaYon7yIvH4Vek+XOB90j+VYXhcGSKOUsThMAHt2rff5o5H9CM/Ssmj0ou8Ux7sY7d364UkflW58Lrh18WQFn4nidD/tfKD/MVzt/uOlSojKrtGUBY4AJ45NX/AALdhNd0q5U4jWdIx9D8pP61a0M6vvRlHyPoaigdKK1PGKWpkrpV2y53CFyMeu018u6mD/Y8jKWDKoOQa+q3UMhUjIIwa8K8L6TBH42FnqAUW9nJMWLfdbyw3X27/hUSWqOvDStGRyGkKsFvGq/KNuDxWzEA6uCOGxXJvrdus109ur7GuHMKbBsEW47R1zwMVraV4gtJXdbtxDygGDj5Tnc3Q5xxx3zU8jOiOLppGvcQeZbSIVDfKSARwap+HpwI4WhT5hOWRUGMfPkDnoKgvfEdhH5gsheXBWVDG0myNGUY3KQOeeQDweRXW+H7CyufGcTWTJ/Z0l3HPABnhGUSBT754PuKbi1YI4iFRvl6JnuY6UtAorQ8wbXj/iHw+1lp/im9iupJLryLsKFQKDvQ579gTXr+a4rxZB/ZWka1qc8YmsPs7u8attcHGDjIxzk/nWdRS0cTejJLmTdro+XYW3Rg+oqRGCsSeuMVXhG2EL6DFa8fh66l8H3HiXdi3hvUs9oTruXJbPoDtGP9r2rU5SssqiJ2znaCTX0J8O/C9npWjaaJFEl4pMsku45VyM7R7DOMV85QtvVkPOR0Pf2r6j8AXEeraFDqUJIhZ3wpXBDZORjsB0HJ6VnUUm42Oii4xjK71O2oooqzI//Z\"/>\n",
       "            <div class=\"result-info\">\n",
       "                <p>A man wearing a maroon long-sleeve dress shirt with black pants and a belt. The shirt appears to be designed for formal occasions.</p>\n",
       "                <div class=\"tags\">\n",
       "                    <span class=\"tag\">apparel</span>\n",
       "                    <span class=\"tag\">fall</span>\n",
       "                    <span class=\"tag\">men</span>\n",
       "                </div>\n",
       "            </div>\n",
       "        </div>\n",
       "    \n",
       "    </div>\n",
       "    "
      ],
      "text/plain": [
       "<IPython.core.display.HTML object>"
      ]
     },
     "metadata": {},
     "output_type": "display_data"
    }
   ],
   "source": [
    "# Example usage\n",
    "results = search_fashion(\"red shirt men\", limit=3)\n",
    "display_fashion_results(results)"
   ]
  },
  {
   "cell_type": "markdown",
   "id": "b634d4ba-141f-40d7-9231-043cc4bb1180",
   "metadata": {},
   "source": [
    "## Additional Resources\n",
    "- [VLM Run Documentation](https://docs.vlm.run)\n",
    "- [API Reference](https://docs.vlm.run/)\n",
    "- [More Examples](https://github.com/vlm-run/vlmrun-cookbook)\n",
    "- [Lance Hybrid Search](https://lancedb.github.io/lancedb/hybrid_search/hybrid_search/)\n",
    "- [Fashion Dataset](https://huggingface.co/datasets/ashraq/fashion-product-images-small)"
   ]
  }
 ],
 "metadata": {
  "kernelspec": {
   "display_name": "Python 3 (ipykernel)",
   "language": "python",
   "name": "python3"
  },
  "language_info": {
   "codemirror_mode": {
    "name": "ipython",
    "version": 3
   },
   "file_extension": ".py",
   "mimetype": "text/x-python",
   "name": "python",
   "nbconvert_exporter": "python",
   "pygments_lexer": "ipython3",
   "version": "3.9.7"
  }
 },
 "nbformat": 4,
 "nbformat_minor": 5
}
