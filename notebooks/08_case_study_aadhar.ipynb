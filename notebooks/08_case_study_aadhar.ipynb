{
 "cells": [
  {
   "cell_type": "markdown",
   "id": "ff8115c8",
   "metadata": {},
   "source": [
    "<div align=\"center\">\n",
    "<p align=\"center\" style=\"width: 100%;\">\n",
    "    <img src=\"https://raw.githubusercontent.com/vlm-run/.github/refs/heads/main/profile/assets/vlm-black.svg\" alt=\"VLM Run Logo\" width=\"80\" style=\"margin-bottom: -5px; color: #2e3138; vertical-align: middle; padding-right: 5px;\"><br>\n",
    "</p>\n",
    "<p align=\"center\"><a href=\"https://docs.vlm.run\"><b>Website</b></a> | <a href=\"https://docs.vlm.run/\"><b>API Docs</b></a> | <a href=\"https://docs.vlm.run/blog\"><b>Blog</b></a> | <a href=\"https://discord.gg/AMApC2UzVY\"><b>Discord</b></a>\n",
    "</p>\n",
    "<p align=\"center\">\n",
    "<a href=\"https://discord.gg/AMApC2UzVY\"><img alt=\"Discord\" src=\"https://img.shields.io/badge/discord-chat-purple?color=%235765F2&label=discord&logo=discord\"></a>\n",
    "<a href=\"https://twitter.com/vlmrun\"><img alt=\"Twitter Follow\" src=\"https://img.shields.io/twitter/follow/vlmrun.svg?style=social&logo=twitter\"></a>\n",
    "</p>\n",
    "</div>\n",
    "\n",
    "Welcome to **[VLM Run Cookbooks](https://github.com/vlm-run/vlmrun-cookbook)**, a comprehensive collection of examples and notebooks demonstrating the power of structured visual understanding using the [VLM Run Platform](https://app.vlm.run). "
   ]
  },
  {
   "cell_type": "markdown",
   "id": "e5a69a7e",
   "metadata": {},
   "source": [
    "## 🤓 Case Study: India Aadhaar Card Extraction\n",
    "\n",
    "In this notebook, we'll walk through an example of extracting structured data from Indian Aadhaar images using VLM Run."
   ]
  },
  {
   "cell_type": "markdown",
   "id": "46333540",
   "metadata": {},
   "source": [
    "### Environment Setup\n",
    "\n",
    "To get started, install the VLM Run Python SDK and sign-up for an API key on the [VLM Run App](https://app.vlm.run).\n",
    "- Store the VLM Run API key under the `VLMRUN_API_KEY` environment variable."
   ]
  },
  {
   "cell_type": "markdown",
   "id": "2c58bfbe",
   "metadata": {},
   "source": [
    "## Prerequisites\n",
    "\n",
    "* Python 3.9+\n",
    "* VLM Run API key (get one at [app.vlm.run](https://app.vlm.run))"
   ]
  },
  {
   "cell_type": "markdown",
   "id": "2365c358",
   "metadata": {},
   "source": [
    "## Setup\n",
    "\n",
    "First, let's install the required packages:"
   ]
  },
  {
   "cell_type": "code",
   "execution_count": null,
   "id": "faceb8f8",
   "metadata": {},
   "outputs": [],
   "source": [
    "! pip install vlmrun --upgrade --quiet\n",
    "! pip install vlmrun-hub --upgrade --quiet\n",
    "! pip install dotenv"
   ]
  },
  {
   "cell_type": "code",
   "execution_count": null,
   "id": "7f5bd85b",
   "metadata": {},
   "outputs": [],
   "source": [
    "from dotenv import load_dotenv\n",
    "\n",
    "load_dotenv()"
   ]
  },
  {
   "cell_type": "code",
   "execution_count": 7,
   "id": "15b9763f",
   "metadata": {},
   "outputs": [],
   "source": [
    "! pip install pandas google-cloud-storage openai --quiet"
   ]
  },
  {
   "cell_type": "code",
   "execution_count": 8,
   "id": "f4165957",
   "metadata": {},
   "outputs": [],
   "source": [
    "import os\n",
    "import getpass\n",
    "\n",
    "VLMRUN_BASE_URL = os.getenv(\"VLMRUN_BASE_URL\", \"https://api.vlm.run/v1\")\n",
    "VLMRUN_API_KEY = os.getenv(\"VLMRUN_API_KEY\", None)\n",
    "if VLMRUN_API_KEY is None:\n",
    "    VLMRUN_API_KEY = getpass.getpass()"
   ]
  },
  {
   "cell_type": "code",
   "execution_count": null,
   "id": "06c78bbd",
   "metadata": {},
   "outputs": [],
   "source": [
    "import pandas as pd\n",
    "from PIL import Image\n",
    "\n",
    "from vlmrun.common.image import encode_image\n",
    "from vlmrun.common.utils import remote_image"
   ]
  },
  {
   "cell_type": "code",
   "execution_count": null,
   "id": "cd2a26a8",
   "metadata": {},
   "outputs": [],
   "source": [
    "image_urls = []"
   ]
  },
  {
   "cell_type": "code",
   "execution_count": null,
   "id": "637a65f0",
   "metadata": {},
   "outputs": [],
   "source": [
    "df = pd.DataFrame({\n",
    "    \"image_path\": image_urls,\n",
    "    \"image\": [remote_image(url) for url in image_urls]\n",
    "})\n",
    "\n",
    "print(f\"Loaded {len(image_urls)} aadhaar images\")\n",
    "df.head()"
   ]
  },
  {
   "cell_type": "code",
   "execution_count": null,
   "id": "ef0b456e",
   "metadata": {},
   "outputs": [],
   "source": [
    "from IPython.display import HTML, display\n",
    "\n",
    "formatters = {\n",
    "    \"image\": lambda x: f\"<img src='{encode_image(x, format='JPEG')}' width='400'>\"\n",
    "}\n",
    "cols = [\"image_path\", \"image\"]\n",
    "display(HTML(df[cols].head(n=10).to_html(formatters=formatters, escape=False)))"
   ]
  },
  {
   "cell_type": "code",
   "execution_count": null,
   "id": "95550d21",
   "metadata": {},
   "outputs": [],
   "source": [
    "from vlmrun.client import VLMRun\n",
    "\n",
    "client = VLMRun(base_url=VLMRUN_BASE_URL, api_key=VLMRUN_API_KEY)\n",
    "client"
   ]
  },
  {
   "cell_type": "code",
   "execution_count": null,
   "id": "8967bd88",
   "metadata": {},
   "outputs": [],
   "source": [
    "# Display  image\n",
    "image = df[\"image\"][0]\n",
    "W, H = image.size\n",
    "display(image.resize((400, int(400 * H / W))))\n",
    "\n",
    "# Generate the response \n",
    "response = client.image.generate(\n",
    "    images=[image],\n",
    "    domain=\"document.in-aadhaar-card\"\n",
    ")\n",
    "print(response.model_dump_json(indent=2))"
   ]
  }
 ],
 "metadata": {
  "kernelspec": {
   "display_name": "gpu-compute",
   "language": "python",
   "name": "python3"
  },
  "language_info": {
   "codemirror_mode": {
    "name": "ipython",
    "version": 3
   },
   "file_extension": ".py",
   "mimetype": "text/x-python",
   "name": "python",
   "nbconvert_exporter": "python",
   "pygments_lexer": "ipython3",
   "version": "3.11.11"
  }
 },
 "nbformat": 4,
 "nbformat_minor": 5
}
