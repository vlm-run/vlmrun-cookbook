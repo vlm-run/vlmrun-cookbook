{
  "cells": [
    {
      "cell_type": "markdown",
      "metadata": {
        "id": "ngFBpdKlwtbq"
      },
      "source": [
        "<div align=\"center\">\n",
        "<p align=\"center\" style=\"width: 100%;\">\n",
        "    <img src=\"https://raw.githubusercontent.com/vlm-run/.github/refs/heads/main/profile/assets/vlm-black.svg\" alt=\"VLM Run Logo\" width=\"80\" style=\"margin-bottom: -5px; color: #2e3138; vertical-align: middle; padding-right: 5px;\"><br>\n",
        "</p>\n",
        "<h2>Cookbook</h2>\n",
        "<p align=\"center\"><a href=\"https://docs.vlm.run\"><b>Website</b></a> | <a href=\"https://docs.vlm.run/\"><b>API Docs</b></a> | <a href=\"https://docs.vlm.run/blog\"><b>Blog</b></a> | <a href=\"https://discord.gg/AMApC2UzVY\"><b>Discord</b></a>\n",
        "</p>\n",
        "<p align=\"center\">\n",
        "<a href=\"https://discord.gg/AMApC2UzVY\"><img alt=\"Discord\" src=\"https://img.shields.io/badge/discord-chat-purple?color=%235765F2&label=discord&logo=discord\"></a>\n",
        "<a href=\"https://twitter.com/vlmrun\"><img alt=\"Twitter Follow\" src=\"https://img.shields.io/twitter/follow/vlmrun.svg?style=social&logo=twitter\"></a>\n",
        "</p>\n",
        "</div>\n",
        "\n",
        "Welcome to the [VLM Run](https://vlm.run) Colab Cookbook! This notebook serves as an example to help developers leverage the power of Vision Language Models (VLMs) for visual ETL.\n"
      ]
    },
    {
      "cell_type": "markdown",
      "metadata": {
        "id": "Rk9qtMAqwtbr"
      },
      "source": [
        "### Environment Setup\n",
        "\n",
        "To get started, install the VLM Run Python SDK and sign-up for an API key on the [VLM Run App](https://app.vlm.run).\n",
        "- Store the VLM Run API key under the `VLM_RUN_API_KEY` environment variable."
      ]
    },
    {
      "cell_type": "markdown",
      "metadata": {
        "id": "79_6JvFawtbr"
      },
      "source": [
        "### Install Dependencies"
      ]
    },
    {
      "cell_type": "code",
      "execution_count": null,
      "metadata": {
        "id": "FK_MJ9H9wtbr"
      },
      "outputs": [],
      "source": [
        "%pip install \"vlmrun[all]\"\n",
        "%pip install yt-dlp"
      ]
    },
    {
      "cell_type": "markdown",
      "metadata": {
        "id": "E7DD4PlPwtbr"
      },
      "source": [
        "### Initialize the VLM Run Client"
      ]
    },
    {
      "cell_type": "code",
      "execution_count": null,
      "metadata": {
        "id": "-0QUC2Jfwtbr",
        "outputId": "7fd0fb12-32d9-452e-dbec-eb4d1a9c8d4e"
      },
      "outputs": [],
      "source": [
        "from vlmrun.client import VLMRun\n",
        "\n",
        "\n",
        "client = VLMRun()\n",
        "client"
      ]
    },
    {
      "cell_type": "code",
      "execution_count": 3,
      "metadata": {},
      "outputs": [
        {
          "data": {
            "text/plain": [
              "True"
            ]
          },
          "execution_count": 3,
          "metadata": {},
          "output_type": "execute_result"
        }
      ],
      "source": [
        "# Let's check if the API is online\n",
        "client.healthcheck()"
      ]
    },
    {
      "cell_type": "markdown",
      "metadata": {},
      "source": [
        "### Download sample YouTube video\n",
        "\n",
        "For this example, we're going to be using a sample YouTube video.\n"
      ]
    },
    {
      "cell_type": "code",
      "execution_count": null,
      "metadata": {},
      "outputs": [],
      "source": [
        "# Download sample youtube video for transcription purposes\n",
        "import yt_dlp\n",
        "from vlmrun.constants import VLMRUN_TMP_DIR\n",
        "\n",
        "URL = \"https://www.youtube.com/watch?v=KxjPgGLVJSg\"\n",
        "\n",
        "height = 720\n",
        "options = {\n",
        "    \"outtmpl\": str(VLMRUN_TMP_DIR / \"%(id)s.%(ext)s\"),\n",
        "    \"format\": f\"bestvideo[height<={height}][ext=mp4]+bestaudio[ext=m4a]/best[ext=mp4]/best\",\n",
        "    \"keepvideo\": True,\n",
        "}\n",
        "with yt_dlp.YoutubeDL(options) as ydl:\n",
        "    info = ydl.extract_info(URL, download=True)\n",
        "    path = VLMRUN_TMP_DIR / f\"{info['id']}.mp4\"\n",
        "print(f\"Downloaded video [path={path.name}, size={path.stat().st_size / 1024 / 1024:.2f} MB]\")"
      ]
    },
    {
      "cell_type": "markdown",
      "metadata": {},
      "source": [
        "### Visualize the video"
      ]
    },
    {
      "cell_type": "code",
      "execution_count": 42,
      "metadata": {
        "id": "P72SChjDwtbs",
        "outputId": "f34b4a99-1b91-4469-d320-74c808cd41db"
      },
      "outputs": [
        {
          "data": {
            "text/html": [
              "<iframe width=\"560\" height=\"315\" src=\"https://www.youtube.com/embed/KxjPgGLVJSg?rel=0&amp;controls=0&amp;showinfo=0\" frameborder=\"0\" allowfullscreen></iframe>"
            ],
            "text/plain": [
              "<IPython.core.display.HTML object>"
            ]
          },
          "metadata": {},
          "output_type": "display_data"
        }
      ],
      "source": [
        "from IPython.display import HTML, display\n",
        "\n",
        "_, yt_id = URL.split(\"?v=\")\n",
        "IFRAME_STR = f'<iframe width=\"560\" height=\"315\" src=\"https://www.youtube.com/embed/{yt_id}?rel=0&amp;controls=0&amp;showinfo=0\" frameborder=\"0\" allowfullscreen></iframe>'\n",
        "\n",
        "display(HTML(IFRAME_STR))"
      ]
    },
    {
      "cell_type": "markdown",
      "metadata": {},
      "source": [
        "### Generate structured data from a long-form video\n",
        "\n",
        "Let's take this 4-minute long video and generate audio and visual trascripts. We take both the audio and video transcripts and segment them into ~20s scenes."
      ]
    },
    {
      "cell_type": "code",
      "execution_count": 29,
      "metadata": {},
      "outputs": [
        {
          "name": "stderr",
          "output_type": "stream",
          "text": [
            "\u001b[32m2025-03-11 21:44:20.193\u001b[0m | \u001b[34m\u001b[1mDEBUG   \u001b[0m | \u001b[36mvlmrun.client.predictions\u001b[0m:\u001b[36m_handle_file_or_url\u001b[0m:\u001b[36m317\u001b[0m - \u001b[34m\u001b[1mUploading file [path=/Users/sudeep/.vlmrun/tmp/KxjPgGLVJSg.mp4, size=24.85 MB] to VLM Run\u001b[0m\n",
            "\u001b[32m2025-03-11 21:44:20.193\u001b[0m | \u001b[34m\u001b[1mDEBUG   \u001b[0m | \u001b[36mvlmrun.client.files\u001b[0m:\u001b[36mget_cached_file\u001b[0m:\u001b[36m56\u001b[0m - \u001b[34m\u001b[1mComputing md5 hash for file [file=/Users/sudeep/.vlmrun/tmp/KxjPgGLVJSg.mp4]\u001b[0m\n",
            "\u001b[32m2025-03-11 21:44:20.242\u001b[0m | \u001b[34m\u001b[1mDEBUG   \u001b[0m | \u001b[36mvlmrun.client.files\u001b[0m:\u001b[36mget_cached_file\u001b[0m:\u001b[36m62\u001b[0m - \u001b[34m\u001b[1mComputed md5 hash for file [file=/Users/sudeep/.vlmrun/tmp/KxjPgGLVJSg.mp4, hash=8e8ee35999cc6b6a45a6ed3f9dfac24a]\u001b[0m\n",
            "\u001b[32m2025-03-11 21:44:20.243\u001b[0m | \u001b[34m\u001b[1mDEBUG   \u001b[0m | \u001b[36mvlmrun.client.files\u001b[0m:\u001b[36mget_cached_file\u001b[0m:\u001b[36m65\u001b[0m - \u001b[34m\u001b[1mChecking if file exists in the database [file=/Users/sudeep/.vlmrun/tmp/KxjPgGLVJSg.mp4, hash=8e8ee35999cc6b6a45a6ed3f9dfac24a]\u001b[0m\n",
            "\u001b[32m2025-03-11 21:44:20.920\u001b[0m | \u001b[34m\u001b[1mDEBUG   \u001b[0m | \u001b[36mvlmrun.client.predictions\u001b[0m:\u001b[36m_handle_file_or_url\u001b[0m:\u001b[36m323\u001b[0m - \u001b[34m\u001b[1mUploaded file [file_id=4c292e10-3af1-41c3-bdfa-7740d95d0faa, name=KxjPgGLVJSg.mp4]\u001b[0m\n"
          ]
        },
        {
          "name": "stdout",
          "output_type": "stream",
          "text": [
            "{\n",
            "  \"id\": \"6ad94f2d-173f-4635-a294-0daf6be63779\",\n",
            "  \"created_at\": \"2025-03-12T04:44:21.947459\",\n",
            "  \"completed_at\": null,\n",
            "  \"response\": null,\n",
            "  \"status\": \"pending\",\n",
            "  \"usage\": {\n",
            "    \"elements_processed\": null,\n",
            "    \"element_type\": null,\n",
            "    \"credits_used\": null\n",
            "  }\n",
            "}\n"
          ]
        }
      ],
      "source": [
        "from vlmrun.client.types import GenerationConfig\n",
        "\n",
        "# Generate structured data from the video\n",
        "response = client.video.generate(\n",
        "    domain=\"video.transcription\",\n",
        "    file=path,\n",
        "    batch=True,\n",
        "    config=GenerationConfig(detail=\"hi\"),\n",
        ")\n",
        "print(response.model_dump_json(indent=2))"
      ]
    },
    {
      "cell_type": "code",
      "execution_count": 34,
      "metadata": {},
      "outputs": [
        {
          "name": "stderr",
          "output_type": "stream",
          "text": [
            "Waiting for prediction to complete:   0%|          | 0/600 [00:01<?, ?it/s]\n"
          ]
        }
      ],
      "source": [
        "from vlmrun.client.types import PredictionResponse\n",
        "\n",
        "# Wait for the prediction to complete\n",
        "response: PredictionResponse = client.predictions.wait(id=response.id, timeout=600, sleep=5)\n",
        "assert isinstance(response, PredictionResponse)"
      ]
    },
    {
      "cell_type": "code",
      "execution_count": 43,
      "metadata": {},
      "outputs": [
        {
          "data": {
            "text/html": [
              "<div>\n",
              "<style scoped>\n",
              "    .dataframe tbody tr th:only-of-type {\n",
              "        vertical-align: middle;\n",
              "    }\n",
              "\n",
              "    .dataframe tbody tr th {\n",
              "        vertical-align: top;\n",
              "    }\n",
              "\n",
              "    .dataframe thead th {\n",
              "        text-align: right;\n",
              "    }\n",
              "</style>\n",
              "<table border=\"1\" class=\"dataframe\">\n",
              "  <thead>\n",
              "    <tr style=\"text-align: right;\">\n",
              "      <th></th>\n",
              "      <th>segments</th>\n",
              "      <th>metadata.language</th>\n",
              "      <th>metadata.content</th>\n",
              "      <th>metadata.topics</th>\n",
              "      <th>metadata.duration</th>\n",
              "    </tr>\n",
              "  </thead>\n",
              "  <tbody>\n",
              "    <tr>\n",
              "      <th>0</th>\n",
              "      <td>[{'start_time': 0.0, 'end_time': 25.8, 'audio': {'content': ' Like the only ...</td>\n",
              "      <td>None</td>\n",
              "      <td>None</td>\n",
              "      <td>None</td>\n",
              "      <td>488.56</td>\n",
              "    </tr>\n",
              "  </tbody>\n",
              "</table>\n",
              "</div>"
            ],
            "text/plain": [
              "                                                                          segments  \\\n",
              "0  [{'start_time': 0.0, 'end_time': 25.8, 'audio': {'content': ' Like the only ...   \n",
              "\n",
              "  metadata.language metadata.content metadata.topics  metadata.duration  \n",
              "0              None             None            None             488.56  "
            ]
          },
          "execution_count": 43,
          "metadata": {},
          "output_type": "execute_result"
        }
      ],
      "source": [
        "import pandas as pd\n",
        "pd.set_option('display.max_colwidth', 80)\n",
        "\n",
        "# Print the high-level video transcription\n",
        "df = pd.json_normalize(response.response)\n",
        "df.head()"
      ]
    },
    {
      "cell_type": "code",
      "execution_count": 40,
      "metadata": {},
      "outputs": [
        {
          "data": {
            "text/html": [
              "<table border=\"1\" class=\"dataframe\">\n",
              "  <thead>\n",
              "    <tr style=\"text-align: right;\">\n",
              "      <th></th>\n",
              "      <th>start_time</th>\n",
              "      <th>end_time</th>\n",
              "      <th>audio.content</th>\n",
              "      <th>video.content</th>\n",
              "      <th>preview</th>\n",
              "    </tr>\n",
              "  </thead>\n",
              "  <tbody>\n",
              "    <tr>\n",
              "      <th>0</th>\n",
              "      <td>0.00</td>\n",
              "      <td>25.80</td>\n",
              "      <td>Like the only way to find these opportunities to learn about them is to find weirdos on the internet that are also into this thing. Yes. And they're figuring it out too. And you can kind of compare notes. Yes. And this is how new industries are created. Literally. By weirdos on the internet. Like literally. Literally. This is Dalton, plus Michael, and today we're going to talk about why AI is going to create more successful founders in the world.</td>\n",
              "      <td>Two men are engaged in a conversation at a table. The man on the left, wearing a light gray shirt, is gesturing with his hands as he speaks. The man on the right, dressed in a blue shirt, listens attentively and occasionally responds with hand gestures. They appear to be in a professional setting, possibly an office or conference room, with large windows in the background allowing natural light to fill the space.</td>\n",
              "      <td><iframe width=\"560\" height=\"315\" src=\"https://www.youtube.com/embed/KxjPgGLVJSg?start=0&end=25&amp;controls=0&amp;showinfo=0\" frameborder=\"0\" allowfullscreen></iframe></td>\n",
              "    </tr>\n",
              "    <tr>\n",
              "      <th>1</th>\n",
              "      <td>25.80</td>\n",
              "      <td>51.71</td>\n",
              "      <td>It's interesting, as we've gotten older, we kind of see a new set of tools come into the market and then an explosion in the number of founders who can now create value. And we've seen this before, right? Like, what was the first time you saw this? I certainly noticed when the internet was new, people that knew how to build websites were suddenly able to make lots of money from</td>\n",
              "      <td>The video features two individuals engaged in a conversation at a table. The person on the left, wearing a light gray shirt, is facing the person on the right, who is dressed in a blue jacket over a black shirt. The background is minimalistic, with a plain wall and a window allowing natural light to enter. The text overlay on the left side of the screen reads \"AI Will Create More Successful Founders\" and \"Founder Explosion.\" On the right side, there is a list titled \"Founder Explosion\" with various items such as \"On The Cusp,\" \"Cost Of Business,\" \"Get In Early,\" \"Whatnot,\" \"Endless Opportunity,\" and \"Internet Weirdos.\" The conversation appears to be focused on the impact of artificial intelligence on business and entrepreneurship.</td>\n",
              "      <td><iframe width=\"560\" height=\"315\" src=\"https://www.youtube.com/embed/KxjPgGLVJSg?start=25&end=51&amp;controls=0&amp;showinfo=0\" frameborder=\"0\" allowfullscreen></iframe></td>\n",
              "    </tr>\n",
              "    <tr>\n",
              "      <th>2</th>\n",
              "      <td>51.71</td>\n",
              "      <td>71.89</td>\n",
              "      <td>the skill. And it was like really basic stuff. High school kids were making tons of money. Yep. I remember people that could just figure out how to sell stuff on eBay, where you would go buy something cheap but then listed on eBay and arbitrage. Yep. Basically, you would see people that kind of understood the new tooling that came out and would like do a hustle and make ungodly amounts of money.</td>\n",
              "      <td>The video features two men engaged in a conversation in an office setting. The man on the left, wearing a light gray button-up shirt, is actively speaking and gesturing with his hands, while the man on the right, dressed in a blue jacket over a black shirt, listens attentively with his arms crossed. The background includes a large window with blinds partially drawn, allowing natural light to filter into the room. The conversation appears to be focused on business-related topics, as indicated by the text on the right side of the screen, which lists various themes such as 'On The Cusp,' 'Cost Of Business,' 'Get In Early,' 'Whatnot,' 'Endless Opportunity,' and 'Internet Weirdos.' The overall atmosphere suggests a professional discussion.</td>\n",
              "      <td><iframe width=\"560\" height=\"315\" src=\"https://www.youtube.com/embed/KxjPgGLVJSg?start=51&end=71&amp;controls=0&amp;showinfo=0\" frameborder=\"0\" allowfullscreen></iframe></td>\n",
              "    </tr>\n",
              "    <tr>\n",
              "      <th>3</th>\n",
              "      <td>72.01</td>\n",
              "      <td>92.67</td>\n",
              "      <td>Yeah. And it was just because they understood the new tools. And I already wasn't even a hustle. Like it was a good business. Like it was, they saw that tools enabled new businesses. You know, we saw this, you know, tail end of the open source world where like we could build all of Justin TV with free software. Yep.</td>\n",
              "      <td>The video features two men engaged in a conversation in an office setting. The man on the left, wearing a light gray shirt, is gesturing animatedly with his hands as he speaks, indicating an active discussion. The man on the right, dressed in a blue jacket over a black shirt, listens attentively with his hands clasped together on the table. The background includes a window with blinds partially open, allowing natural light to filter into the room. On the right side of the screen, there is a vertical list titled \"Founder Explosion\" with various topics such as \"On The Cusp,\" \"Cost Of Business,\" \"Get In Early,\" \"Whatnot,\" \"Endless Opportunity,\" and \"Internet Weirdos.\"</td>\n",
              "      <td><iframe width=\"560\" height=\"315\" src=\"https://www.youtube.com/embed/KxjPgGLVJSg?start=72&end=92&amp;controls=0&amp;showinfo=0\" frameborder=\"0\" allowfullscreen></iframe></td>\n",
              "    </tr>\n",
              "    <tr>\n",
              "      <th>4</th>\n",
              "      <td>92.67</td>\n",
              "      <td>112.85</td>\n",
              "      <td>And then we were there in the beginning of cloud compute where we didn't have to rack servers anymore. Any kid could sign up for an Amazon account, put a couple bucks down, and get access to a server. And so what's interesting is that we might, I think we feel pretty good about saying this, we might be on</td>\n",
              "      <td>The video features a conversation between two men seated at a table in a modern office setting. The man on the right, wearing a blue shirt and glasses, is speaking animatedly, gesturing with his hands as he discusses various topics related to entrepreneurship and business. The man on the left, dressed in a light-colored shirt, listens attentively, occasionally nodding and responding. The background includes a white wall and a window, suggesting a professional environment. On the right side of the screen, there is a list of topics being discussed, such as 'Founder Explosion,' 'On The Cusp,' 'Cost Of Business,' 'Get In Early,' 'Whatnot,' 'Endless Opportunity,' and 'Internet Weirdos.'</td>\n",
              "      <td><iframe width=\"560\" height=\"315\" src=\"https://www.youtube.com/embed/KxjPgGLVJSg?start=92&end=112&amp;controls=0&amp;showinfo=0\" frameborder=\"0\" allowfullscreen></iframe></td>\n",
              "    </tr>\n",
              "    <tr>\n",
              "      <th>5</th>\n",
              "      <td>112.85</td>\n",
              "      <td>135.69</td>\n",
              "      <td>the cusp of the next one of these. And that means there are maybe a whole bunch of new opportunities for successful businesses to be created. Yeah, starting now. Yeah, I mean, here's another metaphor. When the iPhone came out, who would have thought that Flappy Bird would have been created? And I think I read that that guy made like 20 million in cash.</td>\n",
              "      <td>The video features two men engaged in a conversation at a table. The man on the left, wearing a light gray shirt, is speaking animatedly, gesturing with his hands as he talks. The man on the right, dressed in a blue jacket over a black shirt, listens attentively, occasionally nodding and responding. The setting appears to be an office or meeting room with large windows in the background, allowing natural light to fill the space. The overall atmosphere suggests a professional discussion or interview.</td>\n",
              "      <td><iframe width=\"560\" height=\"315\" src=\"https://www.youtube.com/embed/KxjPgGLVJSg?start=112&end=135&amp;controls=0&amp;showinfo=0\" frameborder=\"0\" allowfullscreen></iframe></td>\n",
              "    </tr>\n",
              "    <tr>\n",
              "      <th>6</th>\n",
              "      <td>135.87</td>\n",
              "      <td>159.75</td>\n",
              "      <td>Boom. In like two months and then shut it down. And so if you watch, okay, iPhone, Steve Jobs on stage, some guy in Southeast Asia building Flappy Bird. That's like wild. Never would have guessed. And so, again, to be very direct, what we're arguing is that when brand new technologies come out that are powerful, the people that are on the cusp of understanding them and that quickly</td>\n",
              "      <td>Two men are engaged in a conversation at a table. The man on the left, wearing a light gray shirt, is gesturing animatedly with his hands as he speaks. The man on the right, dressed in a blue jacket, listens attentively, occasionally nodding and smiling. The background features a large window with a view of a body of water, suggesting an indoor setting with natural light.</td>\n",
              "      <td><iframe width=\"560\" height=\"315\" src=\"https://www.youtube.com/embed/KxjPgGLVJSg?start=135&end=159&amp;controls=0&amp;showinfo=0\" frameborder=\"0\" allowfullscreen></iframe></td>\n",
              "    </tr>\n",
              "    <tr>\n",
              "      <th>7</th>\n",
              "      <td>159.75</td>\n",
              "      <td>180.77</td>\n",
              "      <td>build businesses or build useful things using those tools have a very unique view of creating businesses and wealth. And again, to be on the nose for AI, it seems like you can do things that would require way more headcount than you would otherwise. Yes. And so, you know, we're not even saying we know the ideas.</td>\n",
              "      <td>The video features two men engaged in a conversation in an indoor setting. The man on the left, wearing a light gray button-up shirt, is actively gesturing with his hands as he speaks, indicating an animated discussion. The man on the right, dressed in a dark blue shirt, listens attentively, occasionally nodding and responding. The background includes a window with blinds, suggesting a modern office or studio environment. The video also displays a sidebar with various topics such as 'On The Cusp,' 'Cost Of Business,' 'Get In Early,' 'Whatnot,' 'Endless Opportunity,' 'Internet Weirdos,' and 'New Is The Time,' which likely relate to the conversation's themes.</td>\n",
              "      <td><iframe width=\"560\" height=\"315\" src=\"https://www.youtube.com/embed/KxjPgGLVJSg?start=159&end=180&amp;controls=0&amp;showinfo=0\" frameborder=\"0\" allowfullscreen></iframe></td>\n",
              "    </tr>\n",
              "    <tr>\n",
              "      <th>8</th>\n",
              "      <td>180.97</td>\n",
              "      <td>201.72</td>\n",
              "      <td>No. We're just saying if you're watching this and you're interested in being a founder or maybe not working at a company. Yeah. And you just pay attention to every new thing that comes out and try to find these opportunities or, I don't't know arbitrage is the right word, but no, just you know, new opportunities. New opportunities using these cutting edge tools</td>\n",
              "      <td>The video depicts a conversation between two men seated at a table in an office setting. The man on the left, wearing a light gray shirt, is gesturing animatedly with his hands as he speaks, while the man on the right, dressed in a blue jacket over a black shirt, listens attentively with his hands clasped together. The background features large windows with a view of a cityscape, and the room has a modern, minimalist design with white walls and a light-colored floor. The conversation appears to be focused and engaged, with both individuals actively participating in the dialogue.</td>\n",
              "      <td><iframe width=\"560\" height=\"315\" src=\"https://www.youtube.com/embed/KxjPgGLVJSg?start=180&end=201&amp;controls=0&amp;showinfo=0\" frameborder=\"0\" allowfullscreen></iframe></td>\n",
              "    </tr>\n",
              "    <tr>\n",
              "      <th>9</th>\n",
              "      <td>201.72</td>\n",
              "      <td>221.80</td>\n",
              "      <td>and you're on the bleeding edge, you're not competing with anyone. No. It's green field. I think what's cool is any time one of these technologies shifts happens, the cost of starting a business, some set of businesses, reduces by up to like 10x. Yep. And so suddenly, businesses that either wouldn't have made sense</td>\n",
              "      <td>The video features two men engaged in a conversation at a table. The man on the left, wearing a light gray shirt, is gesturing with his hands as he speaks, while the man on the right, dressed in a blue jacket over a black shirt, listens attentively. The setting appears to be an office or meeting room with large windows in the background, allowing natural light to fill the space. The conversation seems to revolve around business topics, as indicated by the text on the right side of the screen, which includes phrases like 'Cost Of Business,' 'Get In Early,' 'Whatnot,' 'Endless Opportunity,' 'Internet Weirdos,' and 'Now Is The Time.' The overall atmosphere suggests a professional discussion.</td>\n",
              "      <td><iframe width=\"560\" height=\"315\" src=\"https://www.youtube.com/embed/KxjPgGLVJSg?start=201&end=221&amp;controls=0&amp;showinfo=0\" frameborder=\"0\" allowfullscreen></iframe></td>\n",
              "    </tr>\n",
              "    <tr>\n",
              "      <th>10</th>\n",
              "      <td>221.80</td>\n",
              "      <td>244.96</td>\n",
              "      <td>or certainly a normal person couldn't just stand up and do, right? Like can you imagine just, oh, it's pre online selling in eBay. All you have to do is rent a storefront and run a store, right? Like that's cheap, right? Like, absolutely not. Or like pre-Ari-NB. Like, all you have to do is just like buy a house and set up your own air bed and breakfast</td>\n",
              "      <td>The video features two men engaged in a conversation at a table in an office setting. The man on the left, wearing a light gray shirt, listens attentively while the man on the right, dressed in a blue jacket over a black shirt, gestures animatedly as he speaks. The background includes large windows with a view of a body of water, suggesting a modern and open environment. The conversation appears to be focused on business topics, as indicated by the text on the right side of the screen, which lists various themes such as 'Cost Of Business,' 'Get In Early,' 'Whatnot,' 'Endless Opportunity,' 'Internet Weirdos,' and 'Now Is The Time.' The overall atmosphere is professional and collaborative.</td>\n",
              "      <td><iframe width=\"560\" height=\"315\" src=\"https://www.youtube.com/embed/KxjPgGLVJSg?start=221&end=244&amp;controls=0&amp;showinfo=0\" frameborder=\"0\" allowfullscreen></iframe></td>\n",
              "    </tr>\n",
              "    <tr>\n",
              "      <th>11</th>\n",
              "      <td>244.96</td>\n",
              "      <td>265.28</td>\n",
              "      <td>bed and breakfast thing or even by hotel yeah that's crazy crazy. Whereas like Airbnb can rent a room. And think about it. Your own place. If you saw Airbnb early and you just decided to be a host and be like, oh, I should like do this as a business. You could do it pretty well. You could do it pretty well. Yeah. When Shopify was a brand new thing, like all of these platforms exactly the people that were the first to recognize that these were</td>\n",
              "      <td>The video features two men engaged in a conversation at a table. The man on the left, wearing a light gray shirt, is gesturing with his hands as he speaks, while the man on the right, dressed in a blue jacket over a black shirt, listens attentively. The background is minimalistic, with a plain wall and a window that lets in natural light. On the right side of the screen, there is a list of topics or themes, including \"Cost Of Business,\" \"Get In Early,\" \"Whatnot,\" \"Endless Opportunity,\" \"Internet Weirdos,\" and \"Now Is The Time.\" The overall setting appears to be a casual interview or discussion.</td>\n",
              "      <td><iframe width=\"560\" height=\"315\" src=\"https://www.youtube.com/embed/KxjPgGLVJSg?start=244&end=265&amp;controls=0&amp;showinfo=0\" frameborder=\"0\" allowfullscreen></iframe></td>\n",
              "    </tr>\n",
              "    <tr>\n",
              "      <th>12</th>\n",
              "      <td>265.84</td>\n",
              "      <td>286.22</td>\n",
              "      <td>gave them leverage yes those entrepreneurial-minded people did really well. Yes. And so I think what's so cool is that what we're saying is like if you're ambitious and you're paying attention, you might not ever need to work at a big company. You might not ever need to have a boss.</td>\n",
              "      <td>The video features two men engaged in a conversation at a table. The man on the left, wearing a light gray shirt, is gesturing animatedly with his hands as he speaks. The man on the right, dressed in a blue jacket, listens attentively, occasionally responding with his own gestures. The setting appears to be an office or meeting room with large windows in the background, allowing natural light to fill the space. The conversation seems to revolve around business or startup topics, as indicated by the text on the right side of the screen, which includes phrases like 'Get In Early,' 'Whatnot,' 'Endless Opportunity,' 'Internet Weirdos,' and 'Now Is The Time.' The overall atmosphere suggests a professional and collaborative discussion.</td>\n",
              "      <td><iframe width=\"560\" height=\"315\" src=\"https://www.youtube.com/embed/KxjPgGLVJSg?start=265&end=286&amp;controls=0&amp;showinfo=0\" frameborder=\"0\" allowfullscreen></iframe></td>\n",
              "    </tr>\n",
              "    <tr>\n",
              "      <th>13</th>\n",
              "      <td>286.22</td>\n",
              "      <td>307.96</td>\n",
              "      <td>Like you can be in control of your own destiny. And these moments don't happen every week. No. Like, we wish we did. It would be the investor. But like, when they do, the people who move. I mean, this is a very specific example. Yeah. But whatnot, the online live shopping thing, I still talk to the founders a lot.</td>\n",
              "      <td>Two men are sitting at a table in a modern office setting, engaged in a conversation. The man on the left is wearing a light gray button-up shirt and has short, curly hair. He appears to be listening attentively to the man on the right, who is bald, wearing glasses, and dressed in a blue jacket over a black shirt. The man on the right is gesturing with his hands as he speaks, indicating an animated discussion. The background features large windows with a view of a cityscape, suggesting an urban environment. On the right side of the screen, there is a list of topics or themes related to business and entrepreneurship, such as 'Founder Explosion,' 'On The Cusp,' 'Cost Of Business,' 'Get In Early,' 'Whatnot,' 'Endless Opportunity,' 'Internet Weirdos,' and 'Now Is The Time.'</td>\n",
              "      <td><iframe width=\"560\" height=\"315\" src=\"https://www.youtube.com/embed/KxjPgGLVJSg?start=286&end=307&amp;controls=0&amp;showinfo=0\" frameborder=\"0\" allowfullscreen></iframe></td>\n",
              "    </tr>\n",
              "    <tr>\n",
              "      <th>14</th>\n",
              "      <td>308.22</td>\n",
              "      <td>328.00</td>\n",
              "      <td>And they have, I think, like, high school-aged kids selling stuff on their... Making real money, right? And making just, again, I don't even want to say the numbers. Yeah. But they figured out the format. They understand how to use whatnot. They built a user base there. Yeah. And they're basically... They're making enough money to set themselves up for their entire life.</td>\n",
              "      <td>A man with curly hair and a light gray shirt is speaking animatedly to another man who has a shaved head and glasses. The man with curly hair uses expressive hand gestures as he talks, while the other man listens attentively. The background features a window with blinds, and there is a menu or list of topics on the right side of the screen, including \"Founder Explosion,\" \"On The Cusp,\" \"Cost Of Business,\" \"Get In Early,\" \"Whatnot,\" \"Endless Opportunity,\" \"Internet Weirdos,\" and \"Now Is The Time.\"</td>\n",
              "      <td><iframe width=\"560\" height=\"315\" src=\"https://www.youtube.com/embed/KxjPgGLVJSg?start=308&end=328&amp;controls=0&amp;showinfo=0\" frameborder=\"0\" allowfullscreen></iframe></td>\n",
              "    </tr>\n",
              "    <tr>\n",
              "      <th>15</th>\n",
              "      <td>328.12</td>\n",
              "      <td>351.76</td>\n",
              "      <td>Yeah. By just seeing this new platform, figuring it out, and then making a bet on it. Yes. I mean, this happened with Twitch. Happens with Twitch. Whole new industry, basically. Yeah. No, I think that what's cool is that we're also talking about every scale, right? We're talking about things that can be venture backed, maybe billion dollar companies one day. But we're also talking about things that can just</td>\n",
              "      <td>The video features two men engaged in a conversation at a table. The man on the left, wearing a light gray shirt, is gesturing with his hands as he speaks, while the man on the right, dressed in a blue jacket over a black shirt, listens attentively with his hands clasped together. The background includes a large window with a view of a body of water, suggesting an indoor setting with natural light. The conversation appears to be casual and focused, with both individuals actively participating in the dialogue.</td>\n",
              "      <td><iframe width=\"560\" height=\"315\" src=\"https://www.youtube.com/embed/KxjPgGLVJSg?start=328&end=351&amp;controls=0&amp;showinfo=0\" frameborder=\"0\" allowfullscreen></iframe></td>\n",
              "    </tr>\n",
              "    <tr>\n",
              "      <th>16</th>\n",
              "      <td>351.76</td>\n",
              "      <td>372.66</td>\n",
              "      <td>set you up so that you can pay your rent and live a good life. Yep. The opportunities are across the entire spectrum. And I think that's what's really cool about new technology. Like when there's a real technology shift, it affects businesses across the board. We're not just talking about companies that YCP even fun. I think that the last point I'd want to make</td>\n",
              "      <td>A man in a blue shirt is seated at a table, engaged in a conversation with another person whose back is facing the camera. The man in the blue shirt is gesturing with his hands as he speaks, indicating an animated discussion. The setting appears to be an office or a professional environment, with a window and some furniture visible in the background. The overall atmosphere suggests a serious and focused conversation.</td>\n",
              "      <td><iframe width=\"560\" height=\"315\" src=\"https://www.youtube.com/embed/KxjPgGLVJSg?start=351&end=372&amp;controls=0&amp;showinfo=0\" frameborder=\"0\" allowfullscreen></iframe></td>\n",
              "    </tr>\n",
              "    <tr>\n",
              "      <th>17</th>\n",
              "      <td>372.66</td>\n",
              "      <td>398.57</td>\n",
              "      <td>on this front is that you don't get this opportunity if you're just thinking, you gotta actually do. Well, and they won't teach you this in schools. Schools teach you stuff for 10 or 20 years ago. So the other thing that I've noticed in these trends is that when you are part of the history being made and you're this early on the cutting edge of a new tech coming out, you can't expect your university or your teachers or your peers people in your community</td>\n",
              "      <td>Two men are engaged in a conversation at a table in an office setting. The man on the left, wearing a light gray shirt, is gesturing with his hands as he speaks, while the man on the right, dressed in a blue jacket over a black shirt, listens attentively. The background features large windows with a view of a cityscape, and the room has a modern, minimalist design with white walls and a light-colored floor. The conversation appears to be focused and serious, with both individuals maintaining eye contact and using expressive hand movements.</td>\n",
              "      <td><iframe width=\"560\" height=\"315\" src=\"https://www.youtube.com/embed/KxjPgGLVJSg?start=372&end=398&amp;controls=0&amp;showinfo=0\" frameborder=\"0\" allowfullscreen></iframe></td>\n",
              "    </tr>\n",
              "    <tr>\n",
              "      <th>18</th>\n",
              "      <td>398.57</td>\n",
              "      <td>419.33</td>\n",
              "      <td>or your peers to teach you about it. It's only basically weirdos on the internet. Yes. Like the only way to find these opportunities to learn about them is to find weirdos on the internet that are also into this thing. Yes. And they're figuring it out too. that are also into this thing. And they're figuring it out too. And you can kind of compare notes. Yes. And this is how new industries are created. Literally. By weirdos on the internet. Like literally. Literally. By weirdos on the internet. Like literally. Literally, there's like some subreddit with a bunch of weirdos.</td>\n",
              "      <td>The video features two men engaged in a conversation at a table. The man on the left, wearing a light gray shirt, is animatedly gesturing with his hands as he speaks, while the man on the right, dressed in a blue jacket, listens attentively with his hands clasped together. The setting appears to be a modern office or conference room with large windows in the background, allowing natural light to fill the space. The conversation seems to be casual and friendly, with both individuals appearing relaxed and engaged.</td>\n",
              "      <td><iframe width=\"560\" height=\"315\" src=\"https://www.youtube.com/embed/KxjPgGLVJSg?start=398&end=419&amp;controls=0&amp;showinfo=0\" frameborder=\"0\" allowfullscreen></iframe></td>\n",
              "    </tr>\n",
              "    <tr>\n",
              "      <th>19</th>\n",
              "      <td>419.33</td>\n",
              "      <td>447.20</td>\n",
              "      <td>And like someday from now, you know, 10 years from now, there'll be an entire industry of people that learned about this thing in some subred somewhere there. Yeah, no, I totally agree. So hey, the big takeaway is if you've been wrestling your lawyers, if you thought, oh, this isn't the time to start a new business. Maybe you should reconsider. Yeah. This is a very interesting time. I think the final argument is there's a good case where a smaller percentage of the population will need to get jobs,</td>\n",
              "      <td>The video features two men engaged in a conversation in an office setting. The man on the left, wearing a light gray shirt, is animatedly speaking and using hand gestures to emphasize his points. He appears to be explaining something with enthusiasm. The man on the right, dressed in a blue jacket over a black shirt, listens attentively, occasionally nodding and responding. The background includes a window with blinds, suggesting a modern office environment. The conversation seems to revolve around business or technology topics, as indicated by the text overlays such as 'Cost Of Business' and 'Endless Opportunity.'</td>\n",
              "      <td><iframe width=\"560\" height=\"315\" src=\"https://www.youtube.com/embed/KxjPgGLVJSg?start=419&end=447&amp;controls=0&amp;showinfo=0\" frameborder=\"0\" allowfullscreen></iframe></td>\n",
              "    </tr>\n",
              "    <tr>\n",
              "      <th>20</th>\n",
              "      <td>447.26</td>\n",
              "      <td>469.08</td>\n",
              "      <td>and more people will be able to use tools like this to be self-employed in some way. I don't think there's any, I think all the structural changes imply that more folks will just use their highly leveraged selves using all these tools to run businesses, then have to go get a job. Yeah. Right? And I think that story isn't told, right? I think the story is always this kind of depressing story of like,</td>\n",
              "      <td>The video features two men engaged in a conversation in an indoor setting. The man on the left, wearing a light gray button-up shirt, is actively gesturing with his hands as he speaks, indicating an animated discussion. The man on the right, dressed in a blue jacket over a black shirt, listens attentively, occasionally nodding and responding. The background includes a window with blinds, suggesting a modern office or conference room environment. The overall atmosphere appears to be professional and focused.</td>\n",
              "      <td><iframe width=\"560\" height=\"315\" src=\"https://www.youtube.com/embed/KxjPgGLVJSg?start=447&end=469&amp;controls=0&amp;showinfo=0\" frameborder=\"0\" allowfullscreen></iframe></td>\n",
              "    </tr>\n",
              "    <tr>\n",
              "      <th>21</th>\n",
              "      <td>469.08</td>\n",
              "      <td>488.56</td>\n",
              "      <td>oh, maybe you won't need it, you won't be needed anymore, as opposed to here's a set of tools. You could do things that people couldn't think of doing affordably before. Like you could be your own boss. You don't even need to be inside of a company to create value. Yeah. So anyways, hopefully that's inspiring. Good shot. Thanks. good shot thanks</td>\n",
              "      <td>Two men are engaged in a conversation at a table in an office setting. The man on the left, wearing a light gray shirt, listens attentively while the man on the right, dressed in a blue jacket over a black shirt, speaks animatedly. He uses hand gestures to emphasize his points, occasionally clasping his hands together on the table. The background features large windows with a view of a cloudy sky, and the room is well-lit with natural light.</td>\n",
              "      <td><iframe width=\"560\" height=\"315\" src=\"https://www.youtube.com/embed/KxjPgGLVJSg?start=469&end=488&amp;controls=0&amp;showinfo=0\" frameborder=\"0\" allowfullscreen></iframe></td>\n",
              "    </tr>\n",
              "  </tbody>\n",
              "</table>"
            ],
            "text/plain": [
              "<IPython.core.display.HTML object>"
            ]
          },
          "execution_count": 40,
          "metadata": {},
          "output_type": "execute_result"
        }
      ],
      "source": [
        "pd.set_option('display.max_colwidth', 600)\n",
        "\n",
        "segments_json = response.response.get(\"segments\", [])\n",
        "segments_df = pd.json_normalize(segments_json)\n",
        "segments_df[\"preview\"] = segments_df.apply(\n",
        "    lambda x: IFRAME_STR.replace(\"?rel=0\", f\"?start={int(x['start_time'])}&end={int(x['end_time'])}\"), axis=1\n",
        ")\n",
        "HTML(segments_df.to_html(escape=False))"
      ]
    },
    {
      "cell_type": "markdown",
      "metadata": {},
      "source": [
        "As you can see, the video has been segmented into ~20s scenes each with detailed audio transcriptions and corresponding visual captions. This provides developers with a powerful means to understand the video content at a granular level."
      ]
    },
    {
      "cell_type": "markdown",
      "metadata": {},
      "source": [
        "### Thanks for following along!\n",
        "\n",
        "Head over to the [VLM Run App](https://app.vlm.run) to try out the [VLM Run](https://vlm.run) API for yourself!"
      ]
    }
  ],
  "metadata": {
    "colab": {
      "provenance": []
    },
    "kernelspec": {
      "display_name": "vlm-cookbook",
      "language": "python",
      "name": "python3"
    },
    "language_info": {
      "codemirror_mode": {
        "name": "ipython",
        "version": 3
      },
      "file_extension": ".py",
      "mimetype": "text/x-python",
      "name": "python",
      "nbconvert_exporter": "python",
      "pygments_lexer": "ipython3",
      "version": "3.10.16"
    }
  },
  "nbformat": 4,
  "nbformat_minor": 0
}
