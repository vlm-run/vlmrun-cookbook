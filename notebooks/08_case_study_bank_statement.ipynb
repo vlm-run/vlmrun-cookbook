{
    "cells": [
        {
            "cell_type": "markdown",
            "metadata": {},
            "source": [
                "<div align=\"center\">\n",
                "<p align=\"center\" style=\"width: 100%;\">\n",
                "    <img src=\"https://raw.githubusercontent.com/vlm-run/.github/refs/heads/main/profile/assets/vlm-black.svg\" alt=\"VLM Run Logo\" width=\"80\" style=\"margin-bottom: -5px; color: #2e3138; vertical-align: middle; padding-right: 5px;\"><br>\n",
                "</p>\n",
                "<p align=\"center\"><a href=\"https://docs.vlm.run\"><b>Website</b></a> | <a href=\"https://docs.vlm.run/\"><b>API Docs</b></a> | <a href=\"https://docs.vlm.run/blog\"><b>Blog</b></a> | <a href=\"https://discord.gg/AMApC2UzVY\"><b>Discord</b></a>\n",
                "</p>\n",
                "<p align=\"center\">\n",
                "<a href=\"https://discord.gg/AMApC2UzVY\"><img alt=\"Discord\" src=\"https://img.shields.io/badge/discord-chat-purple?color=%235765F2&label=discord&logo=discord\"></a>\n",
                "<a href=\"https://twitter.com/vlmrun\"><img alt=\"Twitter Follow\" src=\"https://img.shields.io/twitter/follow/vlmrun.svg?style=social&logo=twitter\"></a>\n",
                "</p>\n",
                "</div>\n",
                "\n",
                "Welcome to **[VLM Run Cookbooks](https://github.com/vlm-run/vlmrun-cookbook)**, a comprehensive collection of examples and notebooks demonstrating the power of structured visual understanding using the [VLM Run Platform](https://app.vlm.run). "
            ]
        },
        {
            "cell_type": "markdown",
            "metadata": {},
            "source": [
                "## Case Study: Understanding Bank Statements\n",
                "\n",
                "In this notebook, we'll walk through an example of understanding bank statement documents using VLM Run's specialized `document.bank-statement` domain"
            ]
        },
        {
            "cell_type": "markdown",
            "metadata": {},
            "source": [
                "### Environment Setup\n",
                "\n",
                "To get started, install the VLM Run Python SDK and sign-up for an API key on the [VLM Run App](https://app.vlm.run).\n",
                "- Store the VLM Run API key under the `VLMRUN_API_KEY` environment variable."
            ]
        },
        {
            "cell_type": "markdown",
            "metadata": {},
            "source": [
                "## Prerequisites\n",
                "\n",
                "* Python 3.9+\n",
                "* VLM Run API key (get one at [app.vlm.run](https://app.vlm.run))"
            ]
        },
        {
            "cell_type": "markdown",
            "metadata": {},
            "source": [
                "## Setup\n",
                "\n",
                "First, let's install the required packages:"
            ]
        },
        {
            "cell_type": "code",
            "execution_count": 1,
            "metadata": {},
            "outputs": [
                {
                    "name": "stdout",
                    "output_type": "stream",
                    "text": [
                        "\n",
                        "\u001b[1m[\u001b[0m\u001b[34;49mnotice\u001b[0m\u001b[1;39;49m]\u001b[0m\u001b[39;49m A new release of pip is available: \u001b[0m\u001b[31;49m24.3.1\u001b[0m\u001b[39;49m -> \u001b[0m\u001b[32;49m25.0.1\u001b[0m\n",
                        "\u001b[1m[\u001b[0m\u001b[34;49mnotice\u001b[0m\u001b[1;39;49m]\u001b[0m\u001b[39;49m To update, run: \u001b[0m\u001b[32;49mpip install --upgrade pip\u001b[0m\n",
                        "\n",
                        "\u001b[1m[\u001b[0m\u001b[34;49mnotice\u001b[0m\u001b[1;39;49m]\u001b[0m\u001b[39;49m A new release of pip is available: \u001b[0m\u001b[31;49m24.3.1\u001b[0m\u001b[39;49m -> \u001b[0m\u001b[32;49m25.0.1\u001b[0m\n",
                        "\u001b[1m[\u001b[0m\u001b[34;49mnotice\u001b[0m\u001b[1;39;49m]\u001b[0m\u001b[39;49m To update, run: \u001b[0m\u001b[32;49mpip install --upgrade pip\u001b[0m\n"
                    ]
                }
            ],
            "source": [
                "! pip install vlmrun --upgrade --quiet\n",
                "! pip install vlmrun-hub --upgrade --quiet"
            ]
        },
        {
            "cell_type": "code",
            "execution_count": 2,
            "metadata": {},
            "outputs": [
                {
                    "name": "stdout",
                    "output_type": "stream",
                    "text": [
                        "\n",
                        "\u001b[1m[\u001b[0m\u001b[34;49mnotice\u001b[0m\u001b[1;39;49m]\u001b[0m\u001b[39;49m A new release of pip is available: \u001b[0m\u001b[31;49m24.3.1\u001b[0m\u001b[39;49m -> \u001b[0m\u001b[32;49m25.0.1\u001b[0m\n",
                        "\u001b[1m[\u001b[0m\u001b[34;49mnotice\u001b[0m\u001b[1;39;49m]\u001b[0m\u001b[39;49m To update, run: \u001b[0m\u001b[32;49mpip install --upgrade pip\u001b[0m\n"
                    ]
                }
            ],
            "source": [
                "! pip install requests tqdm matplotlib pandas --quiet"
            ]
        },
        {
            "cell_type": "code",
            "execution_count": 3,
            "metadata": {},
            "outputs": [],
            "source": [
                "import os\n",
                "import getpass\n",
                "\n",
                "VLMRUN_BASE_URL = os.getenv(\"VLMRUN_BASE_URL\", \"https://api.vlm.run/v1\")\n",
                "VLMRUN_API_KEY = os.getenv(\"VLMRUN_API_KEY\", None)\n",
                "if VLMRUN_API_KEY is None:\n",
                "    VLMRUN_API_KEY = getpass.getpass()"
            ]
        },
        {
            "cell_type": "markdown",
            "metadata": {},
            "source": [
                "Let's initialize the VLM Run Client"
            ]
        },
        {
            "cell_type": "code",
            "execution_count": 4,
            "metadata": {},
            "outputs": [],
            "source": [
                "from vlmrun.client import VLMRun\n",
                "\n",
                "vlm_client = VLMRun(base_url=VLMRUN_BASE_URL, api_key=VLMRUN_API_KEY)"
            ]
        },
        {
            "cell_type": "markdown",
            "metadata": {},
            "source": [
                "## Download Bank Statement PDFs\n",
                "\n",
                "Let's download the example bank statement PDFs for analysis"
            ]
        },
        {
            "cell_type": "code",
            "execution_count": 5,
            "metadata": {},
            "outputs": [],
            "source": [
                "import requests\n",
                "from tqdm import tqdm\n",
                "import os\n",
                "\n",
                "def download_pdf(url, output_path):\n",
                "    \"\"\"Download a PDF file with progress bar\"\"\"\n",
                "    response = requests.get(url, stream=True)\n",
                "    \n",
                "    # Check if the request was successful\n",
                "    if response.status_code != 200:\n",
                "        print(f\"Failed to download {url}\")\n",
                "        return None\n",
                "        \n",
                "    # Get file size for progress bar\n",
                "    total_size = int(response.headers.get('content-length', 0))\n",
                "    \n",
                "    # Setup progress bar\n",
                "    progress_bar = tqdm(total=total_size, unit='B', unit_scale=True, desc=f\"Downloading {os.path.basename(output_path)}\")\n",
                "    \n",
                "    # Write to file\n",
                "    with open(output_path, 'wb') as f:\n",
                "        for chunk in response.iter_content(chunk_size=1024):\n",
                "            if chunk:\n",
                "                f.write(chunk)\n",
                "                progress_bar.update(len(chunk))\n",
                "    \n",
                "    progress_bar.close()\n",
                "    print(f\"Downloaded {output_path}\")\n",
                "    return output_path"
            ]
        },
        {
            "cell_type": "code",
            "execution_count": 6,
            "metadata": {},
            "outputs": [
                {
                    "name": "stderr",
                    "output_type": "stream",
                    "text": [
                        "Downloading lending_bankstatement.pdf: 100%|██████████| 1.23M/1.23M [00:00<00:00, 1.91MB/s]\n"
                    ]
                },
                {
                    "name": "stdout",
                    "output_type": "stream",
                    "text": [
                        "Downloaded bank_statements/lending_bankstatement.pdf\n"
                    ]
                },
                {
                    "name": "stderr",
                    "output_type": "stream",
                    "text": [
                        "Downloading statement_sample1.pdf: 100%|██████████| 55.1k/55.1k [00:00<00:00, 707kB/s]"
                    ]
                },
                {
                    "name": "stdout",
                    "output_type": "stream",
                    "text": [
                        "Downloaded bank_statements/statement_sample1.pdf\n"
                    ]
                },
                {
                    "name": "stderr",
                    "output_type": "stream",
                    "text": [
                        "\n"
                    ]
                }
            ],
            "source": [
                "# Define our PDF URLs\n",
                "pdf_urls = [\n",
                "    \"https://storage.googleapis.com/vlm-data-public-prod/hub/examples/document.bank-statement/lending_bankstatement.pdf\",\n",
                "    \"https://storage.googleapis.com/vlm-data-public-prod/hub/examples/document.bank-statement/statement_sample1.pdf\"\n",
                "]\n",
                "\n",
                "# Create output directory if it doesn't exist\n",
                "os.makedirs(\"bank_statements\", exist_ok=True)\n",
                "\n",
                "# Download the PDFs\n",
                "pdf_paths = []\n",
                "for url in pdf_urls:\n",
                "    filename = os.path.basename(url)\n",
                "    output_path = os.path.join(\"bank_statements\", filename)\n",
                "    pdf_path = download_pdf(url, output_path)\n",
                "    if pdf_path:\n",
                "        pdf_paths.append(pdf_path)"
            ]
        },
        {
            "cell_type": "markdown",
            "metadata": {},
            "source": [
                "## Upload and Analyze Bank Statements\n",
                "\n",
                "Now let's upload the PDFs to VLM Run and analyze them using the `document.bank-statement` domain."
            ]
        },
        {
            "cell_type": "code",
            "execution_count": 7,
            "metadata": {},
            "outputs": [
                {
                    "name": "stderr",
                    "output_type": "stream",
                    "text": [
                        "\u001b[32m2025-04-16 20:04:34.848\u001b[0m | \u001b[34m\u001b[1mDEBUG   \u001b[0m | \u001b[36mvlmrun.client.files\u001b[0m:\u001b[36mget_cached_file\u001b[0m:\u001b[36m56\u001b[0m - \u001b[34m\u001b[1mComputing md5 hash for file [file=bank_statements/lending_bankstatement.pdf]\u001b[0m\n",
                        "\u001b[32m2025-04-16 20:04:34.850\u001b[0m | \u001b[34m\u001b[1mDEBUG   \u001b[0m | \u001b[36mvlmrun.client.files\u001b[0m:\u001b[36mget_cached_file\u001b[0m:\u001b[36m62\u001b[0m - \u001b[34m\u001b[1mComputed md5 hash for file [file=bank_statements/lending_bankstatement.pdf, hash=16917727c3392b74ce375ce24b1d9234]\u001b[0m\n",
                        "\u001b[32m2025-04-16 20:04:34.850\u001b[0m | \u001b[34m\u001b[1mDEBUG   \u001b[0m | \u001b[36mvlmrun.client.files\u001b[0m:\u001b[36mget_cached_file\u001b[0m:\u001b[36m65\u001b[0m - \u001b[34m\u001b[1mChecking if file exists in the database [file=bank_statements/lending_bankstatement.pdf, hash=16917727c3392b74ce375ce24b1d9234]\u001b[0m\n"
                    ]
                },
                {
                    "name": "stdout",
                    "output_type": "stream",
                    "text": [
                        "Processing bank_statements/lending_bankstatement.pdf...\n"
                    ]
                },
                {
                    "name": "stderr",
                    "output_type": "stream",
                    "text": [
                        "\u001b[32m2025-04-16 20:04:36.307\u001b[0m | \u001b[34m\u001b[1mDEBUG   \u001b[0m | \u001b[36mvlmrun.client.predictions\u001b[0m:\u001b[36m_handle_file_or_url\u001b[0m:\u001b[36m377\u001b[0m - \u001b[34m\u001b[1mUsing file_id [file_id=ad07f91e-07bd-45fa-bfe2-c13b7eb7dba7]\u001b[0m\n"
                    ]
                },
                {
                    "name": "stdout",
                    "output_type": "stream",
                    "text": [
                        "File uploaded with ID: ad07f91e-07bd-45fa-bfe2-c13b7eb7dba7\n"
                    ]
                },
                {
                    "name": "stderr",
                    "output_type": "stream",
                    "text": [
                        "\u001b[32m2025-04-16 20:05:13.805\u001b[0m | \u001b[34m\u001b[1mDEBUG   \u001b[0m | \u001b[36mvlmrun.client.files\u001b[0m:\u001b[36mget_cached_file\u001b[0m:\u001b[36m56\u001b[0m - \u001b[34m\u001b[1mComputing md5 hash for file [file=bank_statements/statement_sample1.pdf]\u001b[0m\n",
                        "\u001b[32m2025-04-16 20:05:13.808\u001b[0m | \u001b[34m\u001b[1mDEBUG   \u001b[0m | \u001b[36mvlmrun.client.files\u001b[0m:\u001b[36mget_cached_file\u001b[0m:\u001b[36m62\u001b[0m - \u001b[34m\u001b[1mComputed md5 hash for file [file=bank_statements/statement_sample1.pdf, hash=5d73628bbc55be7a97b165793ff89a29]\u001b[0m\n",
                        "\u001b[32m2025-04-16 20:05:13.809\u001b[0m | \u001b[34m\u001b[1mDEBUG   \u001b[0m | \u001b[36mvlmrun.client.files\u001b[0m:\u001b[36mget_cached_file\u001b[0m:\u001b[36m65\u001b[0m - \u001b[34m\u001b[1mChecking if file exists in the database [file=bank_statements/statement_sample1.pdf, hash=5d73628bbc55be7a97b165793ff89a29]\u001b[0m\n"
                    ]
                },
                {
                    "name": "stdout",
                    "output_type": "stream",
                    "text": [
                        "Analysis complete for bank_statements/lending_bankstatement.pdf\n",
                        "\n",
                        "Processing bank_statements/statement_sample1.pdf...\n"
                    ]
                },
                {
                    "name": "stderr",
                    "output_type": "stream",
                    "text": [
                        "\u001b[32m2025-04-16 20:05:15.383\u001b[0m | \u001b[34m\u001b[1mDEBUG   \u001b[0m | \u001b[36mvlmrun.client.predictions\u001b[0m:\u001b[36m_handle_file_or_url\u001b[0m:\u001b[36m377\u001b[0m - \u001b[34m\u001b[1mUsing file_id [file_id=e418d20a-3bc6-4579-a024-fee2586b54d6]\u001b[0m\n"
                    ]
                },
                {
                    "name": "stdout",
                    "output_type": "stream",
                    "text": [
                        "File uploaded with ID: e418d20a-3bc6-4579-a024-fee2586b54d6\n",
                        "Analysis complete for bank_statements/statement_sample1.pdf\n",
                        "\n"
                    ]
                }
            ],
            "source": [
                "from IPython.display import display, HTML\n",
                "import pandas as pd\n",
                "import json\n",
                "\n",
                "# Upload and analyze each PDF\n",
                "results = []\n",
                "\n",
                "for pdf_path in pdf_paths:\n",
                "    print(f\"Processing {pdf_path}...\")\n",
                "    \n",
                "    # Upload the file\n",
                "    uploaded_file = vlm_client.files.upload(file=pdf_path)\n",
                "    \n",
                "    print(f\"File uploaded with ID: {uploaded_file.id}\")\n",
                "    \n",
                "    # Generate predictions using the document.bank-statement domain\n",
                "    prediction = vlm_client.document.generate(\n",
                "        file=uploaded_file.id,\n",
                "        model=\"vlm-1\",\n",
                "        domain=\"document.bank-statement\"\n",
                "    )\n",
                "    \n",
                "    # Store results\n",
                "    results.append({\n",
                "        \"file_name\": os.path.basename(pdf_path),\n",
                "        \"file_id\": uploaded_file.id,\n",
                "        \"prediction\": prediction\n",
                "    })\n",
                "    \n",
                "    print(f\"Analysis complete for {pdf_path}\\n\")"
            ]
        },
        {
            "cell_type": "markdown",
            "metadata": {},
            "source": [
                "## Display Analysis Results\n",
                "\n",
                "Let's create a nice visualization for our bank statement analysis"
            ]
        },
        {
            "cell_type": "code",
            "execution_count": 8,
            "metadata": {},
            "outputs": [],
            "source": [
                "def display_bank_statement_analysis(result):\n",
                "    \"\"\"Create a visual HTML display of bank statement analysis\"\"\"\n",
                "    file_name = result[\"file_name\"]\n",
                "    file_id = result[\"file_id\"]\n",
                "    data = result[\"prediction\"]\n",
                "    response = data.response\n",
                "    \n",
                "    # Create HTML display\n",
                "    html = f\"\"\"\n",
                "    <div style=\"border: 1px solid #ddd; padding: 15px; margin: 20px 0; border-radius: 8px; background-color: #f8f9fa;\">\n",
                "        <h2 style=\"color: #2c3e50; border-bottom: 1px solid #eee; padding-bottom: 10px;\">Bank Statement Analysis: {file_name}</h2>\n",
                "        <p><strong>File ID:</strong> {file_id}</p>\n",
                "        \n",
                "        <div style=\"margin-top: 20px;\">\n",
                "            <h3 style=\"color: #2c3e50;\">Account Information</h3>\n",
                "            <table style=\"width: 100%; border-collapse: collapse; margin-top: 10px;\">\n",
                "                <tr style=\"background-color: #e9ecef;\">\n",
                "                    <th style=\"padding: 10px; text-align: left; border: 1px solid #dee2e6;\">Field</th>\n",
                "                    <th style=\"padding: 10px; text-align: left; border: 1px solid #dee2e6;\">Value</th>\n",
                "                </tr>\n",
                "    \"\"\"\n",
                "    \n",
                "    # Account details fields to display\n",
                "    account_fields = [\n",
                "        (\"client_name\", \"Client Name\"),\n",
                "        (\"account_number\", \"Account Number\"),\n",
                "        (\"account_type\", \"Account Type\"),\n",
                "        (\"bank_name\", \"Bank Name\"),\n",
                "        (\"statement_date\", \"Statement Date\"),\n",
                "        (\"statement_start_date\", \"Statement Start Date\"),\n",
                "        (\"statement_end_date\", \"Statement End Date\"),\n",
                "        (\"starting_balance\", \"Starting Balance\"),\n",
                "        (\"ending_balance\", \"Ending Balance\")\n",
                "    ]\n",
                "    \n",
                "    # Add account details\n",
                "    for field_key, field_label in account_fields:\n",
                "        if field_key in response:\n",
                "            html += f\"\"\"<tr>\n",
                "                <td style=\"padding: 10px; border: 1px solid #dee2e6;\">{field_label}</td>\n",
                "                <td style=\"padding: 10px; border: 1px solid #dee2e6;\">{response.get(field_key, 'N/A')}</td>\n",
                "            </tr>\"\"\"\n",
                "    \n",
                "    # Add address if available\n",
                "    if \"client_address\" in response:\n",
                "        address = response[\"client_address\"]\n",
                "        address_str = f\"{address.get('street', '')}, {address.get('city', '')}, {address.get('state', '')} {address.get('zip_code', '')}\"\n",
                "        html += f\"\"\"<tr>\n",
                "            <td style=\"padding: 10px; border: 1px solid #dee2e6;\">Client Address</td>\n",
                "            <td style=\"padding: 10px; border: 1px solid #dee2e6;\">{address_str}</td>\n",
                "        </tr>\"\"\"\n",
                "        \n",
                "    html += \"\"\"</table>\n",
                "        </div>\n",
                "    \"\"\"\n",
                "    \n",
                "    # Add transactions if available\n",
                "    if \"table_item\" in response and response[\"table_item\"]:\n",
                "        html += f\"\"\"\n",
                "        <div style=\"margin-top: 30px;\">\n",
                "            <h3 style=\"color: #2c3e50;\">Transactions</h3>\n",
                "            <div style=\"max-height: 400px; overflow-y: auto;\">\n",
                "                <table style=\"width: 100%; border-collapse: collapse; margin-top: 10px;\">\n",
                "                    <tr style=\"background-color: #e9ecef;\">\n",
                "                        <th style=\"padding: 10px; text-align: left; border: 1px solid #dee2e6;\">Date</th>\n",
                "                        <th style=\"padding: 10px; text-align: left; border: 1px solid #dee2e6;\">Description</th>\n",
                "                        <th style=\"padding: 10px; text-align: right; border: 1px solid #dee2e6;\">Amount</th>\n",
                "                        <th style=\"padding: 10px; text-align: right; border: 1px solid #dee2e6;\">Type</th>\n",
                "                    </tr>\n",
                "        \"\"\"\n",
                "        \n",
                "        for transaction in response[\"table_item\"]:\n",
                "            # First check for deposit\n",
                "            if transaction.get(\"transaction_deposit\") is not None:\n",
                "                date = transaction.get(\"transaction_deposit_date\", \"N/A\")\n",
                "                description = transaction.get(\"transaction_deposit_description\", \"N/A\")\n",
                "                amount = transaction.get(\"transaction_deposit\", \"N/A\")\n",
                "                txn_type = \"Credit\"\n",
                "                row_color = \"#d4edda\"  # Green for deposits\n",
                "            # Then check for withdrawal\n",
                "            elif transaction.get(\"transaction_withdrawal\") is not None:\n",
                "                date = transaction.get(\"transaction_withdrawal_date\", \"N/A\")\n",
                "                description = transaction.get(\"transaction_withdrawal_description\", \"N/A\")\n",
                "                amount = transaction.get(\"transaction_withdrawal\", \"N/A\")\n",
                "                txn_type = \"Debit\"\n",
                "                row_color = \"#f8d7da\"  # Red for withdrawals\n",
                "            else:\n",
                "                continue  # Skip if neither deposit nor withdrawal\n",
                "            \n",
                "            html += f\"\"\"\n",
                "            <tr style=\"background-color: {row_color};\">\n",
                "                <td style=\"padding: 8px; border: 1px solid #dee2e6;\">{date}</td>\n",
                "                <td style=\"padding: 8px; border: 1px solid #dee2e6;\">{description}</td>\n",
                "                <td style=\"padding: 8px; text-align: right; border: 1px solid #dee2e6;\">${amount}</td>\n",
                "                <td style=\"padding: 8px; text-align: right; border: 1px solid #dee2e6;\">{txn_type}</td>\n",
                "            </tr>\n",
                "            \"\"\"\n",
                "            \n",
                "        html += \"\"\"</table>\n",
                "            </div>\n",
                "        </div>\"\"\"\n",
                "    \n",
                "    # Add additional information section\n",
                "    html += \"\"\"\n",
                "        <div style=\"margin-top: 30px;\">\n",
                "            <h3 style=\"color: #2c3e50;\">Raw Analysis Data</h3>\n",
                "            <pre style=\"background-color: #f5f5f5; padding: 15px; border-radius: 5px; overflow-x: auto;\">\"\"\"\n",
                "    \n",
                "    # Add the raw JSON data for reference\n",
                "    html += json.dumps(data.model_dump(mode=\"json\"), indent=2)\n",
                "    \n",
                "    html += \"\"\"</pre>\n",
                "        </div>\n",
                "    </div>\n",
                "    \"\"\"\n",
                "    \n",
                "    display(HTML(html))"
            ]
        },
        {
            "cell_type": "code",
            "execution_count": 9,
            "metadata": {},
            "outputs": [
                {
                    "data": {
                        "text/html": [
                            "\n",
                            "    <div style=\"border: 1px solid #ddd; padding: 15px; margin: 20px 0; border-radius: 8px; background-color: #f8f9fa;\">\n",
                            "        <h2 style=\"color: #2c3e50; border-bottom: 1px solid #eee; padding-bottom: 10px;\">Bank Statement Analysis: lending_bankstatement.pdf</h2>\n",
                            "        <p><strong>File ID:</strong> ad07f91e-07bd-45fa-bfe2-c13b7eb7dba7</p>\n",
                            "\n",
                            "        <div style=\"margin-top: 20px;\">\n",
                            "            <h3 style=\"color: #2c3e50;\">Account Information</h3>\n",
                            "            <table style=\"width: 100%; border-collapse: collapse; margin-top: 10px;\">\n",
                            "                <tr style=\"background-color: #e9ecef;\">\n",
                            "                    <th style=\"padding: 10px; text-align: left; border: 1px solid #dee2e6;\">Field</th>\n",
                            "                    <th style=\"padding: 10px; text-align: left; border: 1px solid #dee2e6;\">Value</th>\n",
                            "                </tr>\n",
                            "    <tr>\n",
                            "                <td style=\"padding: 10px; border: 1px solid #dee2e6;\">Client Name</td>\n",
                            "                <td style=\"padding: 10px; border: 1px solid #dee2e6;\">Rachael Dean, Calvin Carrillo</td>\n",
                            "            </tr><tr>\n",
                            "                <td style=\"padding: 10px; border: 1px solid #dee2e6;\">Account Number</td>\n",
                            "                <td style=\"padding: 10px; border: 1px solid #dee2e6;\">1130864562578</td>\n",
                            "            </tr><tr>\n",
                            "                <td style=\"padding: 10px; border: 1px solid #dee2e6;\">Account Type</td>\n",
                            "                <td style=\"padding: 10px; border: 1px solid #dee2e6;\">Essential Checking</td>\n",
                            "            </tr><tr>\n",
                            "                <td style=\"padding: 10px; border: 1px solid #dee2e6;\">Bank Name</td>\n",
                            "                <td style=\"padding: 10px; border: 1px solid #dee2e6;\">Wells Fargo Bank</td>\n",
                            "            </tr><tr>\n",
                            "                <td style=\"padding: 10px; border: 1px solid #dee2e6;\">Statement Date</td>\n",
                            "                <td style=\"padding: 10px; border: 1px solid #dee2e6;\">2019-08-09</td>\n",
                            "            </tr><tr>\n",
                            "                <td style=\"padding: 10px; border: 1px solid #dee2e6;\">Statement Start Date</td>\n",
                            "                <td style=\"padding: 10px; border: 1px solid #dee2e6;\">2019-07-11</td>\n",
                            "            </tr><tr>\n",
                            "                <td style=\"padding: 10px; border: 1px solid #dee2e6;\">Statement End Date</td>\n",
                            "                <td style=\"padding: 10px; border: 1px solid #dee2e6;\">2019-08-09</td>\n",
                            "            </tr><tr>\n",
                            "                <td style=\"padding: 10px; border: 1px solid #dee2e6;\">Starting Balance</td>\n",
                            "                <td style=\"padding: 10px; border: 1px solid #dee2e6;\">13216.58</td>\n",
                            "            </tr><tr>\n",
                            "                <td style=\"padding: 10px; border: 1px solid #dee2e6;\">Ending Balance</td>\n",
                            "                <td style=\"padding: 10px; border: 1px solid #dee2e6;\">4863.69</td>\n",
                            "            </tr><tr>\n",
                            "            <td style=\"padding: 10px; border: 1px solid #dee2e6;\">Client Address</td>\n",
                            "            <td style=\"padding: 10px; border: 1px solid #dee2e6;\">2 King Fork Rd., Indianapolis, IN 46201</td>\n",
                            "        </tr></table>\n",
                            "        </div>\n",
                            "    \n",
                            "        <div style=\"margin-top: 30px;\">\n",
                            "            <h3 style=\"color: #2c3e50;\">Raw Analysis Data</h3>\n",
                            "            <pre style=\"background-color: #f5f5f5; padding: 15px; border-radius: 5px; overflow-x: auto;\">{\n",
                            "  \"id\": \"5d885c66-9516-424d-915a-83baa1f565d9\",\n",
                            "  \"created_at\": \"2025-04-16T14:04:37.317188\",\n",
                            "  \"completed_at\": \"2025-04-16T14:05:13.269327Z\",\n",
                            "  \"response\": {\n",
                            "    \"account_number\": \"1130864562578\",\n",
                            "    \"account_type\": \"Essential Checking\",\n",
                            "    \"bank_address\": null,\n",
                            "    \"bank_name\": \"Wells Fargo Bank\",\n",
                            "    \"client_address\": {\n",
                            "      \"street\": \"2 King Fork Rd.\",\n",
                            "      \"city\": \"Indianapolis\",\n",
                            "      \"state\": \"IN\",\n",
                            "      \"zip_code\": \"46201\"\n",
                            "    },\n",
                            "    \"client_name\": \"Rachael Dean, Calvin Carrillo\",\n",
                            "    \"ending_balance\": 4863.69,\n",
                            "    \"starting_balance\": 13216.58,\n",
                            "    \"statement_date\": \"2019-08-09\",\n",
                            "    \"statement_start_date\": \"2019-07-11\",\n",
                            "    \"statement_end_date\": \"2019-08-09\",\n",
                            "    \"table_item\": [],\n",
                            "    \"others\": {\n",
                            "      \"general_statement_policies\": \"To dispute or report inaccuracies in information we have furnished to a Consumer Reporting Agency about your accounts.\\nIn case of errors or questions about your electronic transfers\"\n",
                            "    }\n",
                            "  },\n",
                            "  \"status\": \"completed\",\n",
                            "  \"usage\": {\n",
                            "    \"elements_processed\": 4,\n",
                            "    \"element_type\": \"page\",\n",
                            "    \"credits_used\": 4\n",
                            "  }\n",
                            "}</pre>\n",
                            "        </div>\n",
                            "    </div>\n",
                            "    "
                        ],
                        "text/plain": [
                            "<IPython.core.display.HTML object>"
                        ]
                    },
                    "metadata": {},
                    "output_type": "display_data"
                },
                {
                    "data": {
                        "text/html": [
                            "\n",
                            "    <div style=\"border: 1px solid #ddd; padding: 15px; margin: 20px 0; border-radius: 8px; background-color: #f8f9fa;\">\n",
                            "        <h2 style=\"color: #2c3e50; border-bottom: 1px solid #eee; padding-bottom: 10px;\">Bank Statement Analysis: statement_sample1.pdf</h2>\n",
                            "        <p><strong>File ID:</strong> e418d20a-3bc6-4579-a024-fee2586b54d6</p>\n",
                            "\n",
                            "        <div style=\"margin-top: 20px;\">\n",
                            "            <h3 style=\"color: #2c3e50;\">Account Information</h3>\n",
                            "            <table style=\"width: 100%; border-collapse: collapse; margin-top: 10px;\">\n",
                            "                <tr style=\"background-color: #e9ecef;\">\n",
                            "                    <th style=\"padding: 10px; text-align: left; border: 1px solid #dee2e6;\">Field</th>\n",
                            "                    <th style=\"padding: 10px; text-align: left; border: 1px solid #dee2e6;\">Value</th>\n",
                            "                </tr>\n",
                            "    <tr>\n",
                            "                <td style=\"padding: 10px; border: 1px solid #dee2e6;\">Client Name</td>\n",
                            "                <td style=\"padding: 10px; border: 1px solid #dee2e6;\">Jane Customer</td>\n",
                            "            </tr><tr>\n",
                            "                <td style=\"padding: 10px; border: 1px solid #dee2e6;\">Account Number</td>\n",
                            "                <td style=\"padding: 10px; border: 1px solid #dee2e6;\">000009752</td>\n",
                            "            </tr><tr>\n",
                            "                <td style=\"padding: 10px; border: 1px solid #dee2e6;\">Account Type</td>\n",
                            "                <td style=\"padding: 10px; border: 1px solid #dee2e6;\">Checking</td>\n",
                            "            </tr><tr>\n",
                            "                <td style=\"padding: 10px; border: 1px solid #dee2e6;\">Bank Name</td>\n",
                            "                <td style=\"padding: 10px; border: 1px solid #dee2e6;\">Commerce Bank</td>\n",
                            "            </tr><tr>\n",
                            "                <td style=\"padding: 10px; border: 1px solid #dee2e6;\">Statement Date</td>\n",
                            "                <td style=\"padding: 10px; border: 1px solid #dee2e6;\">2003-06-05</td>\n",
                            "            </tr><tr>\n",
                            "                <td style=\"padding: 10px; border: 1px solid #dee2e6;\">Statement Start Date</td>\n",
                            "                <td style=\"padding: 10px; border: 1px solid #dee2e6;\">None</td>\n",
                            "            </tr><tr>\n",
                            "                <td style=\"padding: 10px; border: 1px solid #dee2e6;\">Statement End Date</td>\n",
                            "                <td style=\"padding: 10px; border: 1px solid #dee2e6;\">2003-06-05</td>\n",
                            "            </tr><tr>\n",
                            "                <td style=\"padding: 10px; border: 1px solid #dee2e6;\">Starting Balance</td>\n",
                            "                <td style=\"padding: 10px; border: 1px solid #dee2e6;\">7126.11</td>\n",
                            "            </tr><tr>\n",
                            "                <td style=\"padding: 10px; border: 1px solid #dee2e6;\">Ending Balance</td>\n",
                            "                <td style=\"padding: 10px; border: 1px solid #dee2e6;\">10521.19</td>\n",
                            "            </tr><tr>\n",
                            "            <td style=\"padding: 10px; border: 1px solid #dee2e6;\">Client Address</td>\n",
                            "            <td style=\"padding: 10px; border: 1px solid #dee2e6;\">1234 Anywhere Dr., Small Town, MO 12345-6789</td>\n",
                            "        </tr></table>\n",
                            "        </div>\n",
                            "    \n",
                            "        <div style=\"margin-top: 30px;\">\n",
                            "            <h3 style=\"color: #2c3e50;\">Transactions</h3>\n",
                            "            <div style=\"max-height: 400px; overflow-y: auto;\">\n",
                            "                <table style=\"width: 100%; border-collapse: collapse; margin-top: 10px;\">\n",
                            "                    <tr style=\"background-color: #e9ecef;\">\n",
                            "                        <th style=\"padding: 10px; text-align: left; border: 1px solid #dee2e6;\">Date</th>\n",
                            "                        <th style=\"padding: 10px; text-align: left; border: 1px solid #dee2e6;\">Description</th>\n",
                            "                        <th style=\"padding: 10px; text-align: right; border: 1px solid #dee2e6;\">Amount</th>\n",
                            "                        <th style=\"padding: 10px; text-align: right; border: 1px solid #dee2e6;\">Type</th>\n",
                            "                    </tr>\n",
                            "        \n",
                            "            <tr style=\"background-color: #d4edda;\">\n",
                            "                <td style=\"padding: 8px; border: 1px solid #dee2e6;\">2003-05-15</td>\n",
                            "                <td style=\"padding: 8px; border: 1px solid #dee2e6;\">Deposit</td>\n",
                            "                <td style=\"padding: 8px; text-align: right; border: 1px solid #dee2e6;\">$3615.08</td>\n",
                            "                <td style=\"padding: 8px; text-align: right; border: 1px solid #dee2e6;\">Credit</td>\n",
                            "            </tr>\n",
                            "            \n",
                            "            <tr style=\"background-color: #f8d7da;\">\n",
                            "                <td style=\"padding: 8px; border: 1px solid #dee2e6;\">2003-05-19</td>\n",
                            "                <td style=\"padding: 8px; border: 1px solid #dee2e6;\">ATM Withdrawal</td>\n",
                            "                <td style=\"padding: 8px; text-align: right; border: 1px solid #dee2e6;\">$20.0</td>\n",
                            "                <td style=\"padding: 8px; text-align: right; border: 1px solid #dee2e6;\">Debit</td>\n",
                            "            </tr>\n",
                            "            \n",
                            "            <tr style=\"background-color: #f8d7da;\">\n",
                            "                <td style=\"padding: 8px; border: 1px solid #dee2e6;\">2003-05-12</td>\n",
                            "                <td style=\"padding: 8px; border: 1px solid #dee2e6;\">Check Paid 1001</td>\n",
                            "                <td style=\"padding: 8px; text-align: right; border: 1px solid #dee2e6;\">$75.0</td>\n",
                            "                <td style=\"padding: 8px; text-align: right; border: 1px solid #dee2e6;\">Debit</td>\n",
                            "            </tr>\n",
                            "            \n",
                            "            <tr style=\"background-color: #f8d7da;\">\n",
                            "                <td style=\"padding: 8px; border: 1px solid #dee2e6;\">2003-05-18</td>\n",
                            "                <td style=\"padding: 8px; border: 1px solid #dee2e6;\">Check Paid 1002</td>\n",
                            "                <td style=\"padding: 8px; text-align: right; border: 1px solid #dee2e6;\">$30.0</td>\n",
                            "                <td style=\"padding: 8px; text-align: right; border: 1px solid #dee2e6;\">Debit</td>\n",
                            "            </tr>\n",
                            "            \n",
                            "            <tr style=\"background-color: #f8d7da;\">\n",
                            "                <td style=\"padding: 8px; border: 1px solid #dee2e6;\">2003-05-24</td>\n",
                            "                <td style=\"padding: 8px; border: 1px solid #dee2e6;\">Check Paid 1003</td>\n",
                            "                <td style=\"padding: 8px; text-align: right; border: 1px solid #dee2e6;\">$200.0</td>\n",
                            "                <td style=\"padding: 8px; text-align: right; border: 1px solid #dee2e6;\">Debit</td>\n",
                            "            </tr>\n",
                            "            </table>\n",
                            "            </div>\n",
                            "        </div>\n",
                            "        <div style=\"margin-top: 30px;\">\n",
                            "            <h3 style=\"color: #2c3e50;\">Raw Analysis Data</h3>\n",
                            "            <pre style=\"background-color: #f5f5f5; padding: 15px; border-radius: 5px; overflow-x: auto;\">{\n",
                            "  \"id\": \"5923e0ba-53e4-4447-95f8-2b04690ed381\",\n",
                            "  \"created_at\": \"2025-04-16T14:05:15.829778\",\n",
                            "  \"completed_at\": \"2025-04-16T14:05:26.241398Z\",\n",
                            "  \"response\": {\n",
                            "    \"account_number\": \"000009752\",\n",
                            "    \"account_type\": \"Checking\",\n",
                            "    \"bank_address\": {\n",
                            "      \"street\": \"1000 Walnut\",\n",
                            "      \"city\": \"Kansas City\",\n",
                            "      \"state\": \"MO\",\n",
                            "      \"zip_code\": \"64106-3686\"\n",
                            "    },\n",
                            "    \"bank_name\": \"Commerce Bank\",\n",
                            "    \"client_address\": {\n",
                            "      \"street\": \"1234 Anywhere Dr.\",\n",
                            "      \"city\": \"Small Town\",\n",
                            "      \"state\": \"MO\",\n",
                            "      \"zip_code\": \"12345-6789\"\n",
                            "    },\n",
                            "    \"client_name\": \"Jane Customer\",\n",
                            "    \"ending_balance\": 10521.19,\n",
                            "    \"starting_balance\": 7126.11,\n",
                            "    \"statement_date\": \"2003-06-05\",\n",
                            "    \"statement_start_date\": null,\n",
                            "    \"statement_end_date\": \"2003-06-05\",\n",
                            "    \"table_item\": [\n",
                            "      {\n",
                            "        \"transaction_deposit\": 3615.08,\n",
                            "        \"transaction_deposit_date\": \"2003-05-15\",\n",
                            "        \"transaction_deposit_description\": \"Deposit\",\n",
                            "        \"transaction_withdrawal\": null,\n",
                            "        \"transaction_withdrawal_date\": null,\n",
                            "        \"transaction_withdrawal_description\": null\n",
                            "      },\n",
                            "      {\n",
                            "        \"transaction_deposit\": null,\n",
                            "        \"transaction_deposit_date\": null,\n",
                            "        \"transaction_deposit_description\": null,\n",
                            "        \"transaction_withdrawal\": 20.0,\n",
                            "        \"transaction_withdrawal_date\": \"2003-05-19\",\n",
                            "        \"transaction_withdrawal_description\": \"ATM Withdrawal\"\n",
                            "      },\n",
                            "      {\n",
                            "        \"transaction_deposit\": null,\n",
                            "        \"transaction_deposit_date\": null,\n",
                            "        \"transaction_deposit_description\": null,\n",
                            "        \"transaction_withdrawal\": 75.0,\n",
                            "        \"transaction_withdrawal_date\": \"2003-05-12\",\n",
                            "        \"transaction_withdrawal_description\": \"Check Paid 1001\"\n",
                            "      },\n",
                            "      {\n",
                            "        \"transaction_deposit\": null,\n",
                            "        \"transaction_deposit_date\": null,\n",
                            "        \"transaction_deposit_description\": null,\n",
                            "        \"transaction_withdrawal\": 30.0,\n",
                            "        \"transaction_withdrawal_date\": \"2003-05-18\",\n",
                            "        \"transaction_withdrawal_description\": \"Check Paid 1002\"\n",
                            "      },\n",
                            "      {\n",
                            "        \"transaction_deposit\": null,\n",
                            "        \"transaction_deposit_date\": null,\n",
                            "        \"transaction_deposit_description\": null,\n",
                            "        \"transaction_withdrawal\": 200.0,\n",
                            "        \"transaction_withdrawal_date\": \"2003-05-24\",\n",
                            "        \"transaction_withdrawal_description\": \"Check Paid 1003\"\n",
                            "      }\n",
                            "    ],\n",
                            "    \"others\": {}\n",
                            "  },\n",
                            "  \"status\": \"completed\",\n",
                            "  \"usage\": {\n",
                            "    \"elements_processed\": 1,\n",
                            "    \"element_type\": \"page\",\n",
                            "    \"credits_used\": 1\n",
                            "  }\n",
                            "}</pre>\n",
                            "        </div>\n",
                            "    </div>\n",
                            "    "
                        ],
                        "text/plain": [
                            "<IPython.core.display.HTML object>"
                        ]
                    },
                    "metadata": {},
                    "output_type": "display_data"
                }
            ],
            "source": [
                "# Display the analysis results for each PDF\n",
                "for result in results:\n",
                "    display_bank_statement_analysis(result)"
            ]
        },
        {
            "cell_type": "markdown",
            "metadata": {},
            "source": [
                "## Visualizing Transaction Data\n",
                "\n",
                "Let's create some visualizations of the transaction data"
            ]
        },
        {
            "cell_type": "code",
            "execution_count": 10,
            "metadata": {},
            "outputs": [],
            "source": [
                "import matplotlib.pyplot as plt\n",
                "import pandas as pd\n",
                "from datetime import datetime\n",
                "\n",
                "def create_transaction_visualizations(results):\n",
                "    for i, result in enumerate(results):\n",
                "        file_name = result[\"file_name\"]\n",
                "        data = result[\"prediction\"]\n",
                "        response = data.response\n",
                "        \n",
                "        if \"table_item\" not in response or not response[\"table_item\"]:\n",
                "            print(f\"No transaction data available for {file_name}\")\n",
                "            continue\n",
                "        \n",
                "        # Create a DataFrame with the reformatted transaction data\n",
                "        transactions = []\n",
                "        \n",
                "        for item in response[\"table_item\"]:\n",
                "            # Handle deposits\n",
                "            if item.get(\"transaction_deposit\") is not None:\n",
                "                transactions.append({\n",
                "                    \"date\": item.get(\"transaction_deposit_date\"),\n",
                "                    \"description\": item.get(\"transaction_deposit_description\"),\n",
                "                    \"amount\": item.get(\"transaction_deposit\"),\n",
                "                    \"type\": \"Credit\"\n",
                "                })\n",
                "            \n",
                "            # Handle withdrawals\n",
                "            if item.get(\"transaction_withdrawal\") is not None:\n",
                "                transactions.append({\n",
                "                    \"date\": item.get(\"transaction_withdrawal_date\"),\n",
                "                    \"description\": item.get(\"transaction_withdrawal_description\"),\n",
                "                    \"amount\": item.get(\"transaction_withdrawal\"),\n",
                "                    \"type\": \"Debit\"\n",
                "                })\n",
                "        \n",
                "        # Convert to DataFrame\n",
                "        df = pd.DataFrame(transactions)\n",
                "        \n",
                "        if df.empty:\n",
                "            print(f\"No valid transactions found for {file_name}\")\n",
                "            continue\n",
                "        \n",
                "        # Create figures\n",
                "        fig, axes = plt.subplots(1, 2, figsize=(16, 6))\n",
                "        fig.suptitle(f\"Transaction Analysis for {file_name}\", fontsize=16)\n",
                "        \n",
                "        # Plot 1: Transaction Types\n",
                "        transaction_types = df['type'].value_counts()\n",
                "        transaction_types.plot(kind='pie', ax=axes[0], autopct='%1.1f%%', startangle=90, colors=['#ff9999','#66b3ff'])\n",
                "        axes[0].set_title('Transaction Types')\n",
                "        axes[0].set_ylabel('')\n",
                "        \n",
                "        # Plot 2: Transaction Amounts\n",
                "        debits = df[df['type'] == 'Debit']['amount']\n",
                "        credits = df[df['type'] == 'Credit']['amount']\n",
                "        \n",
                "        debits_sum = debits.sum() if not debits.empty else 0\n",
                "        credits_sum = credits.sum() if not credits.empty else 0\n",
                "        \n",
                "        axes[1].bar(['Debits', 'Credits'], [debits_sum, credits_sum], color=['#ff9999','#66b3ff'])\n",
                "        axes[1].set_title('Total Transaction Amounts')\n",
                "        axes[1].set_ylabel('Amount ($)')\n",
                "        \n",
                "        # Add dollar amounts on top of bars\n",
                "        for j, v in enumerate([debits_sum, credits_sum]):\n",
                "            axes[1].text(j, v + (v * 0.05), f'${v:.2f}', ha='center')\n",
                "        \n",
                "        plt.tight_layout(rect=[0, 0, 1, 0.95])\n",
                "        plt.show()\n",
                "        \n",
                "        # Summary statistics\n",
                "        print(f\"\\nTransaction Summary for {file_name}:\")\n",
                "        print(f\"Total Transactions: {len(df)}\")\n",
                "        print(f\"Total Debits: ${debits_sum:.2f}\")\n",
                "        print(f\"Total Credits: ${credits_sum:.2f}\")\n",
                "        print(f\"Net Change: ${credits_sum - debits_sum:.2f}\")\n",
                "        \n",
                "        avg_transaction = df['amount'].mean() if not df.empty else 0\n",
                "        print(f\"Average Transaction: ${avg_transaction:.2f}\")\n",
                "        print(\"\\n\" + \"-\"*50)"
            ]
        },
        {
            "cell_type": "code",
            "execution_count": 11,
            "metadata": {},
            "outputs": [
                {
                    "name": "stdout",
                    "output_type": "stream",
                    "text": [
                        "No transaction data available for lending_bankstatement.pdf\n"
                    ]
                },
                {
                    "data": {
                        "image/png": "[encoded data removed]",
                        "text/plain": [
                            "<Figure size 1600x600 with 2 Axes>"
                        ]
                    },
                    "metadata": {},
                    "output_type": "display_data"
                },
                {
                    "name": "stdout",
                    "output_type": "stream",
                    "text": [
                        "\n",
                        "Transaction Summary for statement_sample1.pdf:\n",
                        "Total Transactions: 5\n",
                        "Total Debits: $325.00\n",
                        "Total Credits: $3615.08\n",
                        "Net Change: $3290.08\n",
                        "Average Transaction: $788.02\n",
                        "\n",
                        "--------------------------------------------------\n"
                    ]
                }
            ],
            "source": [
                "# Create visualizations for all bank statements\n",
                "create_transaction_visualizations(results)"
            ]
        },
        {
            "cell_type": "markdown",
            "metadata": {},
            "source": [
                "## Additional Resources\n",
                "- [VLM Run Documentation](https://docs.vlm.run)\n",
                "- [API Reference](https://docs.vlm.run/)\n",
                "- [More Examples](https://github.com/vlm-run/vlmrun-cookbook)"
            ]
        }
    ],
    "metadata": {
        "kernelspec": {
            "display_name": "Python 3",
            "language": "python",
            "name": "python3"
        },
        "language_info": {
            "codemirror_mode": {
                "name": "ipython",
                "version": 3
            },
            "file_extension": ".py",
            "mimetype": "text/x-python",
            "name": "python",
            "nbconvert_exporter": "python",
            "pygments_lexer": "ipython3",
            "version": "3.12.9"
        }
    },
    "nbformat": 4,
    "nbformat_minor": 4
}
